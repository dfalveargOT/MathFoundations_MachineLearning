{
 "cells": [
  {
   "cell_type": "markdown",
   "metadata": {},
   "source": [
    "# Graph Neural Networks with attention mechanisms for robot path planning"
   ]
  },
  {
   "cell_type": "markdown",
   "metadata": {},
   "source": [
    "## Path exploration using GNN\n",
    "\n",
    "Path planning algorithms is a fundamental problem in autonomous systems. Given a defined environment or map where robotic system navigates, finding a possible path that connects a start with a goal position minimizing a certain heuristic such as distance or energy cost for the robot is considered an optimization problem. Current approaches like RRT or Dijkstra algorithms perform an exploration of the environment sampling states in the environment and dividing them in free or obstacle space states. This exploration of the space requires the distiction of valid or feasible states for a robot, in the case of a single differential robot the exploration space is two dimensional with an orientation consideration (x,y, yaw). The path exploration is done validating the free space states while connecting a tree of possible states until the start and goal positions are connected in the growth tree. The complexity of this tasks becomes time and computational expensive as the dimension of the optimization problem increases. For a manipulator with 7 degrees or freedom or multi-agent systems like 2 robotic arms with 7 degrees of freedom each become expensive and time consuiming to validate the possible position that are feasible to connect the possible states tree. \n",
    "\n",
    "The graph and tree structure of the problem make possible to use graph neural networks to optimize the sampling and tree expansion in the path exploration pipeline. The study [1] propose an priority based approach to select the best suitable nodes to perform the state validation and then perform the node expansion. It is proposed a graph neural network that takes the sampled nodes and the graph created using random graph generation RGG with K-NN. The model is using attention mechanisms to learn a representation of the nodes and outputs priority values ${\\eta}$ where the node with the maximum probability will be the node to be validated and then explored to grow the tree. The sampling and priority computation is performed for several iterations until the final node is found in the tree or the max iteration constraint is reached. The following pipline describe the path exploration algorithm with priority based node selection.\n",
    "\n",
    "### Explorer Algorithm\n",
    "\n",
    "1. Given a start and goal vertex with the obstacles or map data structure, initialize sampling of nodes from the configuration space ${C}$. \n",
    "\n",
    "    Sample n nodes from $C_{free}$ and add to free space vertices $V_f$.\n",
    "\n",
    "    Sample n nodes from $C_{obs}$ and add to free space vertices $V_c$.\n",
    "    \n",
    "2. Initialize a graph using K-NN creating edges from the different vertices that exist in the possible nodes $V$.\n",
    "\n",
    "    $G = \\{v:  \\{v_s, v_g\\} \\cup V_f \\cup V_c, E: KNN(V_f) \\cup KNN(V)  \\}$\n",
    "\n",
    "3. Initialize the nodes tree $V_{{\\tau}}$ with the start state and the edges from nodes neighbors using KNN $E$.\n",
    "\n",
    "    $E_0 = KNN(V_f), V_{{\\tau}_0} = \\{v_s\\}$\n",
    "\n",
    "4. Start loop computing the first priorities using the explorer model.\n",
    "\n",
    "    $\\eta = N_E(V,E,O)$\n",
    "\n",
    "5. Repeat from $i=0$ to $MAXITERS$\n",
    "\n",
    "    - Select edge to explore using the computed priorities $\\eta$ and $E_i$\n",
    "    - Verify that the edge is in the free configuration space, Validation state step\n",
    "\n",
    "        $e_i : (v_i, v_j) \\subseteq C_{free}$\n",
    "\n",
    "    - Add the node $v_j$ to the exploration tree $V_{{\\tau}_{i+1}}$, the edge to exploration edges $E_{{\\tau}_{i+1}}$ and the free space edges.\n",
    "\n",
    "        $E_f(\\tau_{i+1}) = \\{e_j : (v_i, v_j) \\in E_{i+1} | v_i \\in V_{{\\tau}_{i+1}} , v_j \\notin V_{{\\tau}_{i+1}}\\} $.\n",
    "\n",
    "    - Check if euclidean distance between $v_j$ and goal vertex $v_g$ is less than a threshold. If yes return the path found $\\pi$ on $\\tau_i$.\n",
    "    \n",
    "    - If the created edges in the computed graph is empty compute new graph and new priorities with explorer model.\n",
    "\n",
    "        Sample n nodes from $C_{free}$ and $C_{obs}$ creating $V_f$ and $V_c$\n",
    "\n",
    "        ${V = \\{vs, vg\\} \\cup V_f \\cup V_c}$\n",
    "\n",
    "        $E_i = KNN(V_f)$\n",
    "\n",
    "        $E = KNN(V_f) \\cup KNN(V_c)$\n",
    "\n",
    "        $\\eta = N_E(V,E,O)$\n",
    "\n",
    "### Explorer Model\n",
    "\n",
    "The edge exploration priorities is computed using a graph neural network that receives the vertices $V$, edges $E$ and the obstacles $O$. The main objective of the model is to maximize the probability of finding a feasible path $\\pi$ adding edges ${e_i}$ from the free space to the expanded tree ${\\tau_i}$ on each iteration. \n",
    "\n",
    "$e_i = argmax_{e_k \\in E_i \\cup E_f(\\tau_i)} N_E(\\eta_k | V,E,O)$\n",
    "\n",
    "$\\{v_i, (v_i - v_g)^2, v_i - v_g\\}$\n"
   ]
  },
  {
   "cell_type": "markdown",
   "metadata": {},
   "source": [
    "## Model"
   ]
  },
  {
   "cell_type": "code",
   "execution_count": 5,
   "metadata": {},
   "outputs": [],
   "source": [
    "import torch\n",
    "import numpy as np\n",
    "from torch import nn\n",
    "from torch.nn import BatchNorm1d\n",
    "from torch_geometric.nn.pool import knn\n",
    "from torch_geometric.nn.conv import MessagePassing\n",
    "\n",
    "# Training Packages\n",
    "import numpy as np\n",
    "from str2name import str2name \n",
    "from train_explorer import train_explorer\n",
    "from environment import MazeEnv, KukaEnv, Kuka2Env\n",
    "device = torch.device(\"cuda:1\" if torch.cuda.is_available() else \"cpu\")\n",
    "\n",
    "# Testing Packages\n",
    "import imageio\n",
    "from algorithm import NEXT_plan, RRTS_plan\n",
    "from algorithm.dijkstra import * \n",
    "from tqdm import tqdm\n",
    "import matplotlib.pyplot as plt\n",
    "from config import set_random_seed\n",
    "from str2env import str2env\n",
    "from eval_gnn import explore\n",
    "from model_smoother import ModelSmoother"
   ]
  },
  {
   "cell_type": "code",
   "execution_count": 15,
   "metadata": {},
   "outputs": [],
   "source": [
    "class MPNN(MessagePassing):\n",
    "    def __init__(self, embed_size, aggr: str = 'max', batch_norm: bool = False, **kwards):\n",
    "        super(MPNN, self).__init__(aggr=aggr, **kwards)\n",
    "        self.batch_norm = batch_norm\n",
    "        self.lin_0 = nn.Sequential(\n",
    "            nn.Linear(embed_size*5, embed_size),\n",
    "            nn.ReLU(),\n",
    "            nn.Linear(embed_size, embed_size)\n",
    "        )\n",
    "        self.lin_1 = nn.Linear(embed_size * 2, embed_size)\n",
    "        self.bn = BatchNorm1d(embed_size)\n",
    "    \n",
    "    def forward(self, x, edge_index, edge_attr):\n",
    "        # propagate_type: (x: PairTensorm, edge_attr:OptTensor)\n",
    "        out = self.propagate(edge_index, x = (x,x), edge_attr=edge_attr, dim=-1)\n",
    "        out = self.bn(out) if self.batch_norm else out\n",
    "        \n",
    "        return self.lin_1(torch.cat((x, out), dim=-1))\n",
    "    \n",
    "    def message(self, x_i, x_j, edge_attr):\n",
    "        z = torch.cat([x_j - x_i, x_j, x_i, edge_attr], dim=-1)\n",
    "        values = self.lin_0(z)\n",
    "        return values\n",
    "    \n",
    "    def __repr__(self):\n",
    "        return '{}({}, dim={})'.format(self.__class__.__name__, self.channels,\n",
    "                                       self.dim)\n",
    "        \n",
    "class EncoderProcessDecoder(nn.Module):\n",
    "    def __init__(self, workspace_size, config_size, embed_size, obs_size, use_obstacles=True):\n",
    "        \"\"\"\n",
    "        Inputs:\n",
    "            workspace_size: size of the workspace (e.g. 2 for 2D or 3 for 3D)\n",
    "            config_size: size of the configuration space (e.g. 7 for Kuka arm or 2 for 2D environment)\n",
    "            embed_size: size of the embedding space\n",
    "            obs_size: size of the obstacle space (e.g. 2 for 2D or 3 for 3D)\n",
    "            use_obstacles: whether to use obstacles\n",
    "        \"\"\"\n",
    "        super(EncoderProcessDecoder, self).__init__()\n",
    "        \n",
    "        # Variables \n",
    "        self.workspace_size = workspace_size\n",
    "        self.config_size = config_size\n",
    "        self.embed_size = embed_size\n",
    "        self.obs_size = obs_size\n",
    "        self.use_obstacles = use_obstacles\n",
    "        \n",
    "        #### Embedding of the nodes and the edges\n",
    "        # Encoder Node\n",
    "        self.node_code = nn.Sequential(\n",
    "            nn.Linear(config_size*4, embed_size), # 4 features\n",
    "            nn.ReLU(),\n",
    "            nn.Linear(embed_size, embed_size),\n",
    "        )\n",
    "        # Encoder Edge\n",
    "        self.edge_code = nn.Sequential(\n",
    "            nn.Linear(config_size*2, embed_size), # 2 features \n",
    "            nn.ReLU(),\n",
    "            nn.Linear(embed_size, embed_size),\n",
    "        )\n",
    "        self.node_free_code = nn.Sequential(\n",
    "            nn.Linear(config_size, embed_size),\n",
    "            nn.ReLU(),\n",
    "            nn.Linear(embed_size, embed_size),\n",
    "        )\n",
    "        self.edge_free_code = nn.Sequential(\n",
    "            nn.Linear(config_size*2, embed_size),\n",
    "            nn.ReLU(),\n",
    "            nn.Linear(embed_size, embed_size),\n",
    "        )\n",
    "        \n",
    "        #### Embedding of the obstacles \n",
    "        # obstacle node code\n",
    "        self.obs_node_code = nn.Sequential(\n",
    "            nn.Linear(obs_size, embed_size),\n",
    "            nn.ReLU(),\n",
    "            nn.Linear(embed_size, embed_size),\n",
    "        )\n",
    "        # obstacle node code\n",
    "        self.obs_edge_code = nn.Sequential(\n",
    "            nn.Linear(obs_size, embed_size),\n",
    "            nn.ReLU(),\n",
    "            nn.Linear(embed_size, embed_size),\n",
    "        )\n",
    "        \n",
    "        #### Attention obstacles\n",
    "        self.node_attentions = nn.ModuleList([Block(embed_size) for _ in range(3)]) # 3 attention blocks continuous\n",
    "        self.edge_attentions = nn.ModuleList([Block(embed_size) for _ in range(3)]) # 3 attention blocks continuous\n",
    "        \n",
    "        self.goal_encoder = nn.Parameter(torch.rand(embed_size))\n",
    "        #### Graph \n",
    "        self.encoder = nn.Linear(embed_size * 4, embed_size)\n",
    "        self.process = MPNN(embed_size, aggr='max') # TODO: What is MPNN\n",
    "        self.decoder = nn.Linear(embed_size * 2, embed_size)\n",
    "        \n",
    "        # Policy\n",
    "        self.policy = nn.Sequential(\n",
    "            nn.Linear(embed_size*3, embed_size),\n",
    "            nn.ReLU(),\n",
    "            nn.Linear(embed_size, embed_size),\n",
    "            nn.ReLU(),\n",
    "            nn.Linear(embed_size, 1, bias=False),\n",
    "        )\n",
    "        \n",
    "    def forward(self, goal, loop, v, obstacles, free, collided, edge_index, k=10, **kwargs):\n",
    "        # Goal \n",
    "        goal = goal.view(-1, self.config_size)\n",
    "        \n",
    "        # Create the node features [v, goal, (v-goal)^2, v-goal] 3D tensor of size (batch_size, num_nodes, config_size*4)\n",
    "        node_code = self.node_code(torch.cat((v, goal.repeat(len(v), 1), (v-goal)**2, v-goal), dim=-1)) # TODO: Propose a new feature for the nodes\n",
    "        edge_code = self.edge_code(torch.cat((v[edge_index[0, :]], v[edge_index[1, :]]), dim=-1)) # TODO: Check the meaning of edge data\n",
    "        \n",
    "        node_free_code = self.node_free_code(v) # Encode free nodes\n",
    "        edge_free_code = self.edge_free_code(torch.cat((v[edge_index[0, :]], v[edge_index[1, :]]), dim=-1)) # SAME as edge_code\n",
    "        \n",
    "        # Obstacles\n",
    "        if self.use_obstacles:\n",
    "            obs_node_code = self.obs_node_code(obstacles.view(-1, self.obs_size)) # Transform the obstacles to latent space\n",
    "            obs_edge_code = self.obs_edge_code(obstacles.view(-1, self.obs_size)) # Transform the obstacles to latent space\n",
    "            for node_att, edge_att in zip(self.node_attentions, self.edge_attentions):\n",
    "                node_free_code, obs_node_code = node_att(node_free_code, obs_node_code) # TODO: Change attention blocks to multi-head and add residuals\n",
    "                edge_free_code, obs_edge_code = edge_att(edge_free_code, obs_edge_code) # TODO: Change attention blocks to multi-head and add residuals\n",
    "        \n",
    "        goal_index = knn(v, goal, k=1)[1]\n",
    "        h_0 = node_code.new_zeros((len(node_code), self.embed_size))\n",
    "        h_0[goal_index, :] = h_0[goal_index, :] + self.goal_encoder\n",
    "        h_i = h_0\n",
    "        \n",
    "        # value iteration on latent graph\n",
    "        # Graph iterations\n",
    "        for _ in range(loop): # TODO: What is this loop intended for?\n",
    "            encode = self.encoder(torch.cat((node_code, node_free_code.detach(), h_0, h_i), dim=-1))\n",
    "            h_i = self.process(encode, edge_index, torch.cat((edge_free_code.detach(), edge_code), dim=-1))\n",
    "            decode = self.decoder(torch.cat((node_code, h_i), dim=-1))\n",
    "        \n",
    "        # TODO: What is policy\n",
    "        policy = self.policy(torch.cat((decode[edge_index[0, :]], decode[edge_index[0, :]]-decode[edge_index[1, :]], edge_free_code.detach()),dim=-1))\n",
    "        \n",
    "        policy_output = policy.new_zeros(len(v), len(v))\n",
    "        policy_output[edge_index[1, :], edge_index[0,:]] = policy.squeeze()\n",
    "        return policy_output\n",
    "\n",
    "class Block(torch.nn.Module):\n",
    "    def __init__(self, embed_size):\n",
    "        super(Block, self).__init__()\n",
    "        self.attention = Attention(embed_size, embed_size**0.5)\n",
    "        self.map_feed = FeedForward(embed_size, embed_size)\n",
    "        self.obs_feed = FeedForward(embed_size, embed_size)\n",
    "        pass\n",
    "    \n",
    "    def forward(self, map_code, obs_code):\n",
    "        map_code = self.attention(map_code, obs_code)\n",
    "        map_code = self.map_feed(map_code)\n",
    "        obs_code = self.obs_feed(obs_code)\n",
    "        return map_code, obs_code\n",
    "\n",
    "class Attention(nn.Module):\n",
    "    def __init__(self, embed_size, temperature):\n",
    "        super(Attention, self).__init__()\n",
    "        self.temperature = temperature\n",
    "        self.embed_size = embed_size\n",
    "        self.key = nn.Linear(embed_size, embed_size, bias=False)\n",
    "        self.query = nn.Linear(embed_size, embed_size, bias=False)\n",
    "        self.value = nn.Linear(embed_size, embed_size, bias=False)\n",
    "        self.layer_norm = nn.LayerNorm(embed_size, eps=1e-6)\n",
    "\n",
    "    def forward(self, map_code, obs_code):\n",
    "        map_value = self.value(map_code)\n",
    "        obs_value = self.value(obs_code)\n",
    "        map_query = self.query(map_code)\n",
    "        map_key = self.key(map_code)\n",
    "        obs_key = self.key(obs_code)\n",
    "        \n",
    "        obs_attention = (map_query @ obs_key.T)\n",
    "        self_attention = (map_query.reshape(-1) * map_key.reshape(-1)).reshape(-1, self.embed_size).sum(dim=-1)\n",
    "        whole_attention = torch.cat((self_attention.unsqueeze(-1), obs_attention), dim=-1)\n",
    "        whole_attention = (whole_attention / self.temperature).softmax(dim=-1)\n",
    "        \n",
    "        map_code_new = (whole_attention.unsqueeze(-1) * torch.cat((map_value.unsqueeze(1), obs_value.unsqueeze(0).repeat(len(map_code), 1, 1)), dim=1)).sum(dim=1)\n",
    "        \n",
    "        return self.layer_norm(map_code + map_code_new)\n",
    "\n",
    "class FeedForward(torch.nn.Module):\n",
    "\n",
    "    def __init__(self, d_in, d_hid):\n",
    "        super(FeedForward, self).__init__()\n",
    "        self.w_1 = nn.Linear(d_in, d_hid) # position-wise\n",
    "        self.w_2 = nn.Linear(d_hid, d_in) # position-wise\n",
    "        self.layer_norm = torch.nn.LayerNorm(d_in, eps=1e-6)\n",
    "\n",
    "    def forward(self, x):\n",
    "\n",
    "        residual = x\n",
    "\n",
    "        x = self.w_2((self.w_1(x)).relu())\n",
    "        x += residual\n",
    "\n",
    "        x = self.layer_norm(x)\n",
    "\n",
    "        return x"
   ]
  },
  {
   "cell_type": "markdown",
   "metadata": {},
   "source": [
    "## Proposed Model"
   ]
  },
  {
   "cell_type": "code",
   "execution_count": 16,
   "metadata": {},
   "outputs": [],
   "source": [
    "class MPNNR(MessagePassing):\n",
    "    def __init__(self, embed_size, aggr: str = 'max', batch_norm: bool = False, **kwards):\n",
    "        super(MPNNR, self).__init__(aggr=aggr, **kwards)\n",
    "        self.batch_norm = batch_norm\n",
    "        self.lin_0 = nn.Sequential(\n",
    "            nn.Linear(embed_size*5, embed_size),\n",
    "            nn.ReLU(),\n",
    "            nn.Linear(embed_size, embed_size)\n",
    "        )\n",
    "        self.lin_1 = nn.Linear(embed_size * 2, embed_size)\n",
    "        self.bn = BatchNorm1d(embed_size)\n",
    "    \n",
    "    def forward(self, x, edge_index, edge_attr):\n",
    "        # propagate_type: (x: PairTensorm, edge_attr:OptTensor)\n",
    "        identity = x\n",
    "        out = self.propagate(edge_index, x = (x,x), edge_attr=edge_attr, dim=-1)\n",
    "        out = self.bn(out) if self.batch_norm else out\n",
    "        out = self.lin_1(torch.cat((x, out), dim=-1))\n",
    "        out += identity # DONE: Added a residual connection\n",
    "        return out\n",
    "    \n",
    "    def message(self, x_i, x_j, edge_attr):\n",
    "        z = torch.cat([x_j - x_i, x_j, x_i, edge_attr], dim=-1)\n",
    "        values = self.lin_0(z)\n",
    "        return values\n",
    "    \n",
    "    def __repr__(self):\n",
    "        return '{}({}, dim={})'.format(self.__class__.__name__, self.channels,\n",
    "                                       self.dim)\n",
    "        \n",
    "class AttentionEncoderProcessDecoder(nn.Module):\n",
    "    def __init__(self, workspace_size, config_size, embed_size, obs_size, use_obstacles=True):\n",
    "        \"\"\"\n",
    "        Inputs:\n",
    "            workspace_size: size of the workspace (e.g. 2 for 2D or 3 for 3D)\n",
    "            config_size: size of the configuration space (e.g. 7 for Kuka arm or 2 for 2D environment)\n",
    "            embed_size: size of the embedding space\n",
    "            obs_size: size of the obstacle space (e.g. 2 for 2D or 3 for 3D)\n",
    "            use_obstacles: whether to use obstacles\n",
    "        \"\"\"\n",
    "        super(AttentionEncoderProcessDecoder, self).__init__()\n",
    "        \n",
    "        # Variables \n",
    "        self.workspace_size = workspace_size\n",
    "        self.config_size = config_size\n",
    "        self.embed_size = embed_size\n",
    "        self.obs_size = obs_size\n",
    "        self.use_obstacles = use_obstacles\n",
    "        \n",
    "        #### Embedding of the nodes and the edges\n",
    "        # Encoder Node\n",
    "        self.node_code = nn.Sequential(\n",
    "            nn.Linear(config_size*4, embed_size), # 4 features\n",
    "            nn.ReLU(),\n",
    "            nn.Linear(embed_size, embed_size),\n",
    "        )\n",
    "        # Encoder Edge\n",
    "        self.edge_code = nn.Sequential(\n",
    "            nn.Linear(config_size*2, embed_size), # 2 features \n",
    "            nn.ReLU(),\n",
    "            nn.Linear(embed_size, embed_size),\n",
    "        )\n",
    "        self.node_free_code = nn.Sequential(\n",
    "            nn.Linear(config_size, embed_size),\n",
    "            nn.ReLU(),\n",
    "            nn.Linear(embed_size, embed_size),\n",
    "        )\n",
    "        self.edge_free_code = nn.Sequential(\n",
    "            nn.Linear(config_size*2, embed_size),\n",
    "            nn.ReLU(),\n",
    "            nn.Linear(embed_size, embed_size),\n",
    "        )\n",
    "        \n",
    "        #### Embedding of the obstacles \n",
    "        # obstacle node code\n",
    "        self.obs_node_code = nn.Sequential(\n",
    "            nn.Linear(obs_size, embed_size),\n",
    "            nn.ReLU(),\n",
    "            nn.Linear(embed_size, embed_size),\n",
    "        )\n",
    "        # obstacle node code\n",
    "        self.obs_edge_code = nn.Sequential(\n",
    "            nn.Linear(obs_size, embed_size),\n",
    "            nn.ReLU(),\n",
    "            nn.Linear(embed_size, embed_size),\n",
    "        )\n",
    "        \n",
    "        #### Attention obstacles\n",
    "        self.node_attentions = nn.ModuleList([MHeadBlock(embed_size) for _ in range(3)]) # 3 attention blocks continuous\n",
    "        self.edge_attentions = nn.ModuleList([MHeadBlock(embed_size) for _ in range(3)]) # 3 attention blocks continuous\n",
    "        \n",
    "        self.goal_encoder = nn.Parameter(torch.rand(embed_size))\n",
    "        #### Graph \n",
    "        self.encoder = nn.Linear(embed_size * 4, embed_size)\n",
    "        self.process = MPNNR(embed_size, aggr='max')\n",
    "        self.decoder = nn.Linear(embed_size * 2, embed_size)\n",
    "        \n",
    "        # Policy\n",
    "        self.policy = nn.Sequential(\n",
    "            nn.Linear(embed_size*3, embed_size),\n",
    "            nn.LeakyReLU(),\n",
    "            nn.Linear(embed_size, embed_size),\n",
    "            nn.Tanh(),\n",
    "            nn.Linear(embed_size, 1, bias=False),\n",
    "        )\n",
    "        \n",
    "    def forward(self, goal, loop, v, obstacles, free, collided, edge_index, k=10, **kwargs):\n",
    "        # Goal \n",
    "        goal = goal.view(-1, self.config_size)\n",
    "        \n",
    "        # Create the node features [v, goal, (v-goal)^2, v-goal] 3D tensor of size (batch_size, num_nodes, config_size*4)\n",
    "        node_code = self.node_code(torch.cat((v, goal.repeat(len(v), 1), (v-goal)**2, v-goal), dim=-1)) # TODO: Propose a new feature for the nodes\n",
    "        edge_code = self.edge_code(torch.cat((v[edge_index[0, :]], v[edge_index[1, :]]), dim=-1)) # TODO: Check the meaning of edge data\n",
    "        \n",
    "        node_free_code = self.node_free_code(v) # Encode free nodes\n",
    "        edge_free_code = self.edge_free_code(torch.cat((v[edge_index[0, :]], v[edge_index[1, :]]), dim=-1)) # SAME as edge_code\n",
    "        \n",
    "        # Obstacles\n",
    "        if self.use_obstacles:\n",
    "            obs_node_code = self.obs_node_code(obstacles.view(-1, self.obs_size)) # Transform the obstacles to latent space\n",
    "            obs_edge_code = self.obs_edge_code(obstacles.view(-1, self.obs_size)) # Transform the obstacles to latent space\n",
    "            for node_att, edge_att in zip(self.node_attentions, self.edge_attentions):\n",
    "                node_free_code, obs_node_code = node_att(node_free_code, obs_node_code) # DONE: Change attention blocks to multi-head and add residuals\n",
    "                edge_free_code, obs_edge_code = edge_att(edge_free_code, obs_edge_code) # DONE: Change attention blocks to multi-head and add residuals\n",
    "        \n",
    "        goal_index = knn(v, goal, k=1)[1]\n",
    "        h_0 = node_code.new_zeros((len(node_code), self.embed_size))\n",
    "        h_0[goal_index, :] = h_0[goal_index, :] + self.goal_encoder\n",
    "        h_i = h_0\n",
    "        \n",
    "        # value iteration on latent graph\n",
    "        # Graph iterations\n",
    "        for _ in range(loop): # TODO: What is this loop intended for?\n",
    "            encode = self.encoder(torch.cat((node_code, node_free_code.detach(), h_0, h_i), dim=-1))\n",
    "            h_i = self.process(encode, edge_index, torch.cat((edge_free_code.detach(), edge_code), dim=-1))\n",
    "            decode = self.decoder(torch.cat((node_code, h_i), dim=-1))\n",
    "        \n",
    "        # TODO: What is policy\n",
    "        policy = self.policy(torch.cat((decode[edge_index[0, :]], decode[edge_index[0, :]]-decode[edge_index[1, :]], edge_free_code.detach()),dim=-1))\n",
    "        \n",
    "        policy_output = policy.new_zeros(len(v), len(v))\n",
    "        policy_output[edge_index[1, :], edge_index[0,:]] = policy.squeeze()\n",
    "        return policy_output\n",
    "\n",
    "class MultiHeadAttention(nn.Module):\n",
    "    def __init__(self, embed_size, n_heads=3, temperature=1.0, dropout_rate=0.3):\n",
    "        super(MultiHeadAttention, self).__init__()\n",
    "        self.embed_size = embed_size\n",
    "        self.n_heads = n_heads\n",
    "        self.temperature = temperature\n",
    "\n",
    "        self.q_mappings = nn.ModuleList([nn.Linear(embed_size, embed_size) for _ in range(self.n_heads)])\n",
    "        self.k_mappings = nn.ModuleList([nn.Linear(embed_size, embed_size) for _ in range(self.n_heads)])\n",
    "        self.v_mappings = nn.ModuleList([nn.Linear(embed_size, embed_size) for _ in range(self.n_heads)])\n",
    "        self.out = nn.Linear(embed_size * n_heads, embed_size)\n",
    "        self.dropout = nn.Dropout(dropout_rate)\n",
    "        self.layer_norm = nn.LayerNorm(embed_size, eps=1e-6)\n",
    "\n",
    "    def forward(self, map_code, obs_code):\n",
    "        # map_code: (batch_size, num_v, embed_size)\n",
    "        # obs_code: (batch_size, num_o, embed_size)\n",
    "        result = []\n",
    "        for head in range(self.n_heads):\n",
    "            key = self.k_mappings[head]\n",
    "            query = self.q_mappings[head]\n",
    "            value = self.v_mappings[head]\n",
    "            \n",
    "            # pass the map_code through the attention\n",
    "            map_value = value(map_code)\n",
    "            obs_value = value(obs_code)\n",
    "            map_query = query(map_code)\n",
    "            map_key = key(map_code)\n",
    "            obs_key = key(obs_code)\n",
    "            \n",
    "            obs_attention = (map_query @ obs_key.T)\n",
    "            self_attention = (map_query.reshape(-1) * map_key.reshape(-1)).reshape(-1, self.embed_size).sum(dim=-1)\n",
    "            whole_attention = torch.cat((self_attention.unsqueeze(-1), obs_attention), dim=-1)\n",
    "            whole_attention = self.dropout(whole_attention)\n",
    "            whole_attention = (whole_attention / self.temperature).softmax(dim=-1)\n",
    "            \n",
    "            map_code_new = (whole_attention.unsqueeze(-1) *\n",
    "                            torch.cat((map_value.unsqueeze(1), obs_value.unsqueeze(0).repeat(len(map_code), 1, 1)), dim=1)).sum(dim=1)\n",
    "            \n",
    "            result.append(map_code_new)\n",
    "            \n",
    "        concat_map = torch.cat(result, dim=-1)\n",
    "        map_code_new = self.out(concat_map)\n",
    "        return self.layer_norm(map_code + map_code_new) # Residual attention\n",
    "\n",
    "class MHeadBlock(nn.Module):\n",
    "    def __init__(self, embed_size, n_heads=3, dropout_rate=0.3):\n",
    "        super(MHeadBlock, self).__init__()\n",
    "        self.attention = MultiHeadAttention(embed_size, n_heads=n_heads)\n",
    "        self.ffn_layer = nn.Sequential(\n",
    "            nn.Linear(embed_size, embed_size),\n",
    "            nn.ReLU(),\n",
    "            nn.Dropout(dropout_rate),\n",
    "            nn.Linear(embed_size, embed_size),\n",
    "        )\n",
    "        self.layer_norm = nn.LayerNorm(embed_size, eps=1e-6)\n",
    "    \n",
    "    def forward(self, map_code, obs_code):\n",
    "        map_code = self.attention(map_code, obs_code)\n",
    "        map_code = self.layer_norm(self.ffn_layer(map_code) + map_code)\n",
    "        obs_code = self.layer_norm(self.ffn_layer(obs_code) + obs_code)\n",
    "        return map_code, obs_code\n",
    "    "
   ]
  },
  {
   "cell_type": "markdown",
   "metadata": {},
   "source": [
    "# Training GNN"
   ]
  },
  {
   "cell_type": "markdown",
   "metadata": {},
   "source": [
    "## KUKA 14DoF Environment"
   ]
  },
  {
   "cell_type": "markdown",
   "metadata": {},
   "source": [
    "### Train Original Model"
   ]
  },
  {
   "cell_type": "code",
   "execution_count": 9,
   "metadata": {},
   "outputs": [
    {
     "name": "stderr",
     "output_type": "stream",
     "text": [
      "Failed to detect the name of this notebook, you can set it manually with the WANDB_NOTEBOOK_NAME environment variable to enable code saving.\n",
      "\u001b[34m\u001b[1mwandb\u001b[0m: Currently logged in as: \u001b[33mdavid-alvear\u001b[0m. Use \u001b[1m`wandb login --relogin`\u001b[0m to force relogin\n"
     ]
    },
    {
     "data": {
      "text/html": [
       "Tracking run with wandb version 0.16.0"
      ],
      "text/plain": [
       "<IPython.core.display.HTML object>"
      ]
     },
     "metadata": {},
     "output_type": "display_data"
    },
    {
     "data": {
      "text/html": [
       "Run data is saved locally in <code>/home/ubuntu/courses/Machine_Learning/FinalProjectPlanning/gnn-motion-planning/wandb/run-20231201_091835-lkvv8z5l</code>"
      ],
      "text/plain": [
       "<IPython.core.display.HTML object>"
      ]
     },
     "metadata": {},
     "output_type": "display_data"
    },
    {
     "data": {
      "text/html": [
       "Syncing run <strong><a href='https://wandb.ai/david-alvear/GNN-AttentionPlanning-Train/runs/lkvv8z5l' target=\"_blank\">gentle-lake-1</a></strong> to <a href='https://wandb.ai/david-alvear/GNN-AttentionPlanning-Train' target=\"_blank\">Weights & Biases</a> (<a href='https://wandb.me/run' target=\"_blank\">docs</a>)<br/>"
      ],
      "text/plain": [
       "<IPython.core.display.HTML object>"
      ]
     },
     "metadata": {},
     "output_type": "display_data"
    },
    {
     "data": {
      "text/html": [
       " View project at <a href='https://wandb.ai/david-alvear/GNN-AttentionPlanning-Train' target=\"_blank\">https://wandb.ai/david-alvear/GNN-AttentionPlanning-Train</a>"
      ],
      "text/plain": [
       "<IPython.core.display.HTML object>"
      ]
     },
     "metadata": {},
     "output_type": "display_data"
    },
    {
     "data": {
      "text/html": [
       " View run at <a href='https://wandb.ai/david-alvear/GNN-AttentionPlanning-Train/runs/lkvv8z5l' target=\"_blank\">https://wandb.ai/david-alvear/GNN-AttentionPlanning-Train/runs/lkvv8z5l</a>"
      ],
      "text/plain": [
       "<IPython.core.display.HTML object>"
      ]
     },
     "metadata": {},
     "output_type": "display_data"
    },
    {
     "name": "stderr",
     "output_type": "stream",
     "text": [
      "  0%|          | 0/48 [00:00<?, ?it/s]/home/ubuntu/courses/Machine_Learning/FinalProjectPlanning/gnn-motion-planning/train_explorer.py:39: UserWarning: Creating a tensor from a list of numpy.ndarrays is extremely slow. Please consider converting the list to a single numpy.ndarray with numpy.array() before converting to a tensor. (Triggered internally at ../torch/csrc/utils/tensor_new.cpp:261.)\n",
      "  'obstacles': torch.FloatTensor(env.obstacles).to(device),\n",
      "total 9.28, policy 5.26: 100%|██████████| 48/48 [00:05<00:00,  8.84it/s] \n",
      "100%|██████████| 48/48 [00:02<00:00, 20.87it/s]\n",
      "total 8.94, policy 4.43: 100%|██████████| 48/48 [00:03<00:00, 13.11it/s]\n",
      "100%|██████████| 48/48 [00:00<00:00, 53.06it/s]\n",
      "total 8.09, policy 1.74: 100%|██████████| 48/48 [00:03<00:00, 14.35it/s]\n",
      "100%|██████████| 48/48 [00:00<00:00, 77.73it/s]\n",
      "total 7.89, policy 2.36: 100%|██████████| 48/48 [00:03<00:00, 14.37it/s]\n",
      "100%|██████████| 48/48 [00:00<00:00, 74.31it/s]\n",
      "total 7.69, policy 2.89: 100%|██████████| 48/48 [00:03<00:00, 15.01it/s]\n",
      "100%|██████████| 48/48 [00:00<00:00, 56.72it/s]\n",
      "total 8.13, policy 3.20: 100%|██████████| 48/48 [00:03<00:00, 15.48it/s]\n",
      "100%|██████████| 48/48 [00:00<00:00, 63.71it/s]\n",
      "total 7.35, policy 3.58: 100%|██████████| 48/48 [00:03<00:00, 14.84it/s]\n",
      "100%|██████████| 48/48 [00:00<00:00, 74.79it/s]\n",
      "total 7.10, policy 4.61: 100%|██████████| 48/48 [00:03<00:00, 13.83it/s]\n",
      "100%|██████████| 48/48 [00:00<00:00, 66.29it/s] \n",
      "total 6.62, policy 2.38: 100%|██████████| 48/48 [00:03<00:00, 15.97it/s]\n",
      "100%|██████████| 48/48 [00:00<00:00, 71.73it/s]\n",
      "total 6.20, policy 1.78: 100%|██████████| 48/48 [00:03<00:00, 15.81it/s]\n",
      "100%|██████████| 48/48 [00:00<00:00, 78.01it/s] \n",
      "total 5.89, policy 0.49: 100%|██████████| 48/48 [00:03<00:00, 15.49it/s]\n",
      "100%|██████████| 48/48 [00:00<00:00, 68.12it/s]\n",
      "total 5.77, policy 2.63: 100%|██████████| 48/48 [00:03<00:00, 15.77it/s]\n",
      "100%|██████████| 48/48 [00:00<00:00, 62.08it/s]\n",
      "total 4.89, policy 0.00: 100%|██████████| 48/48 [00:03<00:00, 15.87it/s]\n",
      "100%|██████████| 48/48 [00:00<00:00, 64.78it/s] \n",
      "total 6.60, policy 0.00: 100%|██████████| 48/48 [00:03<00:00, 15.55it/s]\n",
      "100%|██████████| 48/48 [00:00<00:00, 91.98it/s]\n",
      "total 5.12, policy 0.11: 100%|██████████| 48/48 [00:03<00:00, 14.91it/s]\n",
      "100%|██████████| 48/48 [00:00<00:00, 66.15it/s]\n",
      "total 4.69, policy 2.51: 100%|██████████| 48/48 [00:03<00:00, 15.52it/s]\n",
      "100%|██████████| 48/48 [00:00<00:00, 92.76it/s]\n",
      "total 5.79, policy 2.87: 100%|██████████| 48/48 [00:03<00:00, 15.04it/s]\n",
      "100%|██████████| 48/48 [00:00<00:00, 70.22it/s]\n",
      "total 4.97, policy 0.23: 100%|██████████| 48/48 [00:03<00:00, 14.88it/s]\n",
      "100%|██████████| 48/48 [00:00<00:00, 108.42it/s]\n",
      "total 4.19, policy 0.12: 100%|██████████| 48/48 [00:02<00:00, 16.19it/s]\n",
      "100%|██████████| 48/48 [00:00<00:00, 85.50it/s] \n",
      "total 4.92, policy 2.53: 100%|██████████| 48/48 [00:03<00:00, 15.08it/s]\n",
      "100%|██████████| 48/48 [00:00<00:00, 95.14it/s] \n",
      "total 4.52, policy 0.80: 100%|██████████| 48/48 [00:03<00:00, 15.06it/s]\n",
      "100%|██████████| 48/48 [00:00<00:00, 92.17it/s] \n",
      "total 4.64, policy 0.59: 100%|██████████| 48/48 [00:03<00:00, 14.92it/s]\n",
      "100%|██████████| 48/48 [00:00<00:00, 101.05it/s]\n",
      "total 4.39, policy 0.05: 100%|██████████| 48/48 [00:03<00:00, 14.35it/s]\n",
      "100%|██████████| 48/48 [00:00<00:00, 83.93it/s] \n",
      "total 3.42, policy 0.34: 100%|██████████| 48/48 [00:03<00:00, 15.75it/s]\n",
      "100%|██████████| 48/48 [00:00<00:00, 87.32it/s]\n",
      "total 4.56, policy 1.88: 100%|██████████| 48/48 [00:03<00:00, 14.59it/s]\n",
      "100%|██████████| 48/48 [00:00<00:00, 94.73it/s]\n",
      "total 3.42, policy 3.77: 100%|██████████| 48/48 [00:03<00:00, 15.51it/s]\n",
      "100%|██████████| 48/48 [00:00<00:00, 93.77it/s] \n",
      "total 3.14, policy 3.11: 100%|██████████| 48/48 [00:03<00:00, 15.94it/s]\n",
      "100%|██████████| 48/48 [00:00<00:00, 63.61it/s]\n",
      "total 3.91, policy 2.85: 100%|██████████| 48/48 [00:02<00:00, 16.02it/s]\n",
      "100%|██████████| 48/48 [00:00<00:00, 75.93it/s]\n",
      "total 3.63, policy 2.49: 100%|██████████| 48/48 [00:03<00:00, 15.72it/s]\n",
      "100%|██████████| 48/48 [00:00<00:00, 62.81it/s]\n",
      "total 2.80, policy 0.24: 100%|██████████| 48/48 [00:03<00:00, 14.92it/s]\n",
      "100%|██████████| 48/48 [00:00<00:00, 60.69it/s]\n",
      "total 3.22, policy 2.42: 100%|██████████| 48/48 [00:03<00:00, 15.06it/s]\n",
      "100%|██████████| 48/48 [00:00<00:00, 71.57it/s]\n",
      "total 3.45, policy 2.18: 100%|██████████| 48/48 [00:03<00:00, 14.14it/s]\n",
      "100%|██████████| 48/48 [00:00<00:00, 92.91it/s] \n",
      "total 2.12, policy 0.13: 100%|██████████| 48/48 [00:03<00:00, 15.34it/s]\n",
      "100%|██████████| 48/48 [00:00<00:00, 51.95it/s] \n",
      "total 2.38, policy 0.96: 100%|██████████| 48/48 [00:03<00:00, 15.20it/s]\n",
      "100%|██████████| 48/48 [00:00<00:00, 105.79it/s]\n",
      "total 3.72, policy 1.59: 100%|██████████| 48/48 [00:02<00:00, 16.16it/s]\n",
      "100%|██████████| 48/48 [00:00<00:00, 80.65it/s]\n",
      "total 2.55, policy 0.94: 100%|██████████| 48/48 [00:03<00:00, 15.92it/s] \n",
      "100%|██████████| 48/48 [00:00<00:00, 83.37it/s]\n",
      "total 2.82, policy 0.74: 100%|██████████| 48/48 [00:03<00:00, 14.98it/s]\n",
      "100%|██████████| 48/48 [00:00<00:00, 89.01it/s] \n",
      "total 2.74, policy 3.54: 100%|██████████| 48/48 [00:03<00:00, 15.11it/s]\n",
      "100%|██████████| 48/48 [00:00<00:00, 92.64it/s] \n",
      "total 3.53, policy 0.02: 100%|██████████| 48/48 [00:02<00:00, 16.03it/s]\n",
      "100%|██████████| 48/48 [00:00<00:00, 69.81it/s]\n",
      "total 2.67, policy 0.02: 100%|██████████| 48/48 [00:02<00:00, 16.17it/s]\n",
      "100%|██████████| 48/48 [00:00<00:00, 88.25it/s]\n"
     ]
    },
    {
     "data": {
      "application/vnd.jupyter.widget-view+json": {
       "model_id": "47cac1ba79ed4240b6daead4d0e636e5",
       "version_major": 2,
       "version_minor": 0
      },
      "text/plain": [
       "VBox(children=(Label(value='0.345 MB of 0.345 MB uploaded\\r'), FloatProgress(value=1.0, max=1.0)))"
      ]
     },
     "metadata": {},
     "output_type": "display_data"
    },
    {
     "data": {
      "text/html": [
       "<style>\n",
       "    table.wandb td:nth-child(1) { padding: 0 10px; text-align: left ; width: auto;} td:nth-child(2) {text-align: left ; width: 100%}\n",
       "    .wandb-row { display: flex; flex-direction: row; flex-wrap: wrap; justify-content: flex-start; width: 100% }\n",
       "    .wandb-col { display: flex; flex-direction: column; flex-basis: 100%; flex: 1; padding: 10px; }\n",
       "    </style>\n",
       "<div class=\"wandb-row\"><div class=\"wandb-col\"><h3>Run history:</h3><br/><table class=\"wandb\"><tr><td>step</td><td>▁▁▁▂▂▂▂▂▂▃▃▃▃▃▃▄▄▄▄▄▅▅▅▅▅▅▆▆▆▆▆▆▇▇▇▇▇███</td></tr><tr><td>train/policy_loss</td><td>▆█▇▃▄▅▅▆▇▂▃▂▅▁▁▂▆▂▆▃▃▄▂▁▃▂▁▁▁▁▁▄▅▅▃▁▁▃▃█</td></tr><tr><td>train/total_loss</td><td>█▇▇▆▆▆▆▅▅▄▅▄▄▄▄▄▄▃▃▃▃▃▃▃▃▂▂▂▃▃▂▂▂▂▂▂▂▂▁▂</td></tr><tr><td>val/loss</td><td>█▇▇▇▆▅▅▆▄▃▄▃▃▃▄▂▃▂▃▂▃▂▂▃▃▄▃▃▅▃▂▃▄▁▅▃▃▁▂▄</td></tr></table><br/></div><div class=\"wandb-col\"><h3>Run summary:</h3><br/><table class=\"wandb\"><tr><td>step</td><td>1202</td></tr><tr><td>train/policy_loss</td><td>0.02003</td></tr><tr><td>train/total_loss</td><td>2.66896</td></tr><tr><td>val/loss</td><td>2.18927</td></tr></table><br/></div></div>"
      ],
      "text/plain": [
       "<IPython.core.display.HTML object>"
      ]
     },
     "metadata": {},
     "output_type": "display_data"
    },
    {
     "data": {
      "text/html": [
       " View run <strong style=\"color:#cdcd00\">gentle-lake-1</strong> at: <a href='https://wandb.ai/david-alvear/GNN-AttentionPlanning-Train/runs/lkvv8z5l' target=\"_blank\">https://wandb.ai/david-alvear/GNN-AttentionPlanning-Train/runs/lkvv8z5l</a><br/>Synced 5 W&B file(s), 0 media file(s), 0 artifact file(s) and 1 other file(s)"
      ],
      "text/plain": [
       "<IPython.core.display.HTML object>"
      ]
     },
     "metadata": {},
     "output_type": "display_data"
    },
    {
     "data": {
      "text/html": [
       "Find logs at: <code>./wandb/run-20231201_091835-lkvv8z5l/logs</code>"
      ],
      "text/plain": [
       "<IPython.core.display.HTML object>"
      ]
     },
     "metadata": {},
     "output_type": "display_data"
    }
   ],
   "source": [
    "\n",
    "data_path = './kuka_prm_14.pkl'\n",
    "model_path = './data/improved/kuka_prm_14_Original.pt'\n",
    "env = Kuka2Env(False)    \n",
    "model_explore = EncoderProcessDecoder(workspace_size=3, config_size=14, embed_size=32, obs_size=6).to(device)\n",
    "train_explorer(48, data_path, model_explore, model_path, env, iter=40, loop=10)"
   ]
  },
  {
   "cell_type": "markdown",
   "metadata": {},
   "source": [
    "### Train Proposed Model"
   ]
  },
  {
   "cell_type": "code",
   "execution_count": 10,
   "metadata": {},
   "outputs": [
    {
     "data": {
      "text/html": [
       "Tracking run with wandb version 0.16.0"
      ],
      "text/plain": [
       "<IPython.core.display.HTML object>"
      ]
     },
     "metadata": {},
     "output_type": "display_data"
    },
    {
     "data": {
      "text/html": [
       "Run data is saved locally in <code>/home/ubuntu/courses/Machine_Learning/FinalProjectPlanning/gnn-motion-planning/wandb/run-20231201_092128-rgcitk0l</code>"
      ],
      "text/plain": [
       "<IPython.core.display.HTML object>"
      ]
     },
     "metadata": {},
     "output_type": "display_data"
    },
    {
     "data": {
      "text/html": [
       "Syncing run <strong><a href='https://wandb.ai/david-alvear/GNN-AttentionPlanning-Train/runs/rgcitk0l' target=\"_blank\">revived-eon-2</a></strong> to <a href='https://wandb.ai/david-alvear/GNN-AttentionPlanning-Train' target=\"_blank\">Weights & Biases</a> (<a href='https://wandb.me/run' target=\"_blank\">docs</a>)<br/>"
      ],
      "text/plain": [
       "<IPython.core.display.HTML object>"
      ]
     },
     "metadata": {},
     "output_type": "display_data"
    },
    {
     "data": {
      "text/html": [
       " View project at <a href='https://wandb.ai/david-alvear/GNN-AttentionPlanning-Train' target=\"_blank\">https://wandb.ai/david-alvear/GNN-AttentionPlanning-Train</a>"
      ],
      "text/plain": [
       "<IPython.core.display.HTML object>"
      ]
     },
     "metadata": {},
     "output_type": "display_data"
    },
    {
     "data": {
      "text/html": [
       " View run at <a href='https://wandb.ai/david-alvear/GNN-AttentionPlanning-Train/runs/rgcitk0l' target=\"_blank\">https://wandb.ai/david-alvear/GNN-AttentionPlanning-Train/runs/rgcitk0l</a>"
      ],
      "text/plain": [
       "<IPython.core.display.HTML object>"
      ]
     },
     "metadata": {},
     "output_type": "display_data"
    },
    {
     "name": "stderr",
     "output_type": "stream",
     "text": [
      "total 13.46, policy 3.38: 100%|██████████| 48/48 [00:04<00:00,  9.89it/s]\n",
      "100%|██████████| 48/48 [00:02<00:00, 19.74it/s]\n",
      "total 12.07, policy 3.02: 100%|██████████| 48/48 [00:03<00:00, 12.87it/s]\n",
      "100%|██████████| 48/48 [00:01<00:00, 38.71it/s]\n",
      "total 11.40, policy 4.74: 100%|██████████| 48/48 [00:03<00:00, 13.29it/s]\n",
      "100%|██████████| 48/48 [00:00<00:00, 62.17it/s]\n",
      "total 10.82, policy 4.16: 100%|██████████| 48/48 [00:03<00:00, 14.10it/s]\n",
      "100%|██████████| 48/48 [00:00<00:00, 65.92it/s]\n",
      "total 11.38, policy 4.15: 100%|██████████| 48/48 [00:03<00:00, 12.97it/s]\n",
      "100%|██████████| 48/48 [00:00<00:00, 58.61it/s]\n",
      "total 9.41, policy 2.05: 100%|██████████| 48/48 [00:03<00:00, 14.42it/s] \n",
      "100%|██████████| 48/48 [00:00<00:00, 80.12it/s] \n",
      "total 9.94, policy 3.71: 100%|██████████| 48/48 [00:03<00:00, 14.47it/s]\n",
      "100%|██████████| 48/48 [00:00<00:00, 73.75it/s]\n",
      "total 9.07, policy 3.58: 100%|██████████| 48/48 [00:03<00:00, 13.90it/s]\n",
      "100%|██████████| 48/48 [00:00<00:00, 57.33it/s]\n",
      "total 8.82, policy 1.64: 100%|██████████| 48/48 [00:03<00:00, 13.96it/s]\n",
      "100%|██████████| 48/48 [00:00<00:00, 69.04it/s]\n",
      "total 8.17, policy 2.40: 100%|██████████| 48/48 [00:03<00:00, 15.00it/s]\n",
      "100%|██████████| 48/48 [00:00<00:00, 77.54it/s] \n",
      "total 7.72, policy 2.54: 100%|██████████| 48/48 [00:03<00:00, 13.97it/s]\n",
      "100%|██████████| 48/48 [00:00<00:00, 68.01it/s]\n",
      "total 8.25, policy 2.95: 100%|██████████| 48/48 [00:03<00:00, 13.97it/s]\n",
      "100%|██████████| 48/48 [00:00<00:00, 59.42it/s]\n",
      "total 6.85, policy 2.61: 100%|██████████| 48/48 [00:03<00:00, 14.34it/s]\n",
      "100%|██████████| 48/48 [00:00<00:00, 59.00it/s]\n",
      "total 6.67, policy 0.26: 100%|██████████| 48/48 [00:03<00:00, 13.81it/s]\n",
      "100%|██████████| 48/48 [00:00<00:00, 68.36it/s]\n",
      "total 5.65, policy 1.21: 100%|██████████| 48/48 [00:03<00:00, 15.55it/s]\n",
      "100%|██████████| 48/48 [00:00<00:00, 66.89it/s]\n",
      "total 6.32, policy 0.70: 100%|██████████| 48/48 [00:03<00:00, 13.74it/s]\n",
      "100%|██████████| 48/48 [00:00<00:00, 69.95it/s]\n",
      "total 6.18, policy 0.07: 100%|██████████| 48/48 [00:03<00:00, 13.34it/s]\n",
      "100%|██████████| 48/48 [00:00<00:00, 51.04it/s]\n",
      "total 6.30, policy 1.13: 100%|██████████| 48/48 [00:03<00:00, 13.45it/s]\n",
      "100%|██████████| 48/48 [00:00<00:00, 64.29it/s]\n",
      "total 5.54, policy 3.57: 100%|██████████| 48/48 [00:03<00:00, 14.23it/s]\n",
      "100%|██████████| 48/48 [00:00<00:00, 59.69it/s]\n",
      "total 5.27, policy 0.06: 100%|██████████| 48/48 [00:03<00:00, 13.47it/s]\n",
      "100%|██████████| 48/48 [00:00<00:00, 72.79it/s] \n",
      "total 5.06, policy 1.83: 100%|██████████| 48/48 [00:03<00:00, 13.32it/s]\n",
      "100%|██████████| 48/48 [00:00<00:00, 65.00it/s]\n",
      "total 4.86, policy 3.91: 100%|██████████| 48/48 [00:03<00:00, 14.16it/s]\n",
      "100%|██████████| 48/48 [00:00<00:00, 70.70it/s]\n",
      "total 4.50, policy 2.54: 100%|██████████| 48/48 [00:03<00:00, 13.70it/s]\n",
      "100%|██████████| 48/48 [00:00<00:00, 61.24it/s]\n",
      "total 4.32, policy 3.61: 100%|██████████| 48/48 [00:03<00:00, 15.74it/s]\n",
      "100%|██████████| 48/48 [00:00<00:00, 76.23it/s]\n",
      "total 4.56, policy 0.55: 100%|██████████| 48/48 [00:03<00:00, 14.70it/s]\n",
      "100%|██████████| 48/48 [00:00<00:00, 78.20it/s]\n",
      "total 4.84, policy 4.94: 100%|██████████| 48/48 [00:03<00:00, 14.51it/s]\n",
      "100%|██████████| 48/48 [00:00<00:00, 66.84it/s]\n",
      "total 3.25, policy 1.24: 100%|██████████| 48/48 [00:03<00:00, 13.63it/s]\n",
      "100%|██████████| 48/48 [00:00<00:00, 64.35it/s]\n",
      "total 3.61, policy 0.03: 100%|██████████| 48/48 [00:03<00:00, 14.00it/s]\n",
      "100%|██████████| 48/48 [00:00<00:00, 72.75it/s]\n",
      "total 4.35, policy 1.76: 100%|██████████| 48/48 [00:03<00:00, 13.58it/s]\n",
      "100%|██████████| 48/48 [00:00<00:00, 65.27it/s]\n",
      "total 3.51, policy 2.47: 100%|██████████| 48/48 [00:03<00:00, 13.86it/s]\n",
      "100%|██████████| 48/48 [00:00<00:00, 54.85it/s]\n",
      "total 3.48, policy 3.01: 100%|██████████| 48/48 [00:03<00:00, 14.78it/s]\n",
      "100%|██████████| 48/48 [00:00<00:00, 69.32it/s]\n",
      "total 2.75, policy 2.54: 100%|██████████| 48/48 [00:03<00:00, 14.72it/s]\n",
      "100%|██████████| 48/48 [00:00<00:00, 54.77it/s]\n",
      "total 3.17, policy 0.45: 100%|██████████| 48/48 [00:03<00:00, 14.71it/s]\n",
      "100%|██████████| 48/48 [00:00<00:00, 67.54it/s]\n",
      "total 3.44, policy 2.29: 100%|██████████| 48/48 [00:03<00:00, 13.32it/s]\n",
      "100%|██████████| 48/48 [00:00<00:00, 79.17it/s]\n",
      "total 3.11, policy 1.22: 100%|██████████| 48/48 [00:03<00:00, 14.05it/s]\n",
      "100%|██████████| 48/48 [00:00<00:00, 71.78it/s]\n",
      "total 3.03, policy 1.01: 100%|██████████| 48/48 [00:03<00:00, 13.43it/s]\n",
      "100%|██████████| 48/48 [00:01<00:00, 46.43it/s]\n",
      "total 4.03, policy 0.77: 100%|██████████| 48/48 [00:03<00:00, 13.27it/s]\n",
      "100%|██████████| 48/48 [00:00<00:00, 69.47it/s]\n",
      "total 2.33, policy 0.53: 100%|██████████| 48/48 [00:03<00:00, 14.13it/s]\n",
      "100%|██████████| 48/48 [00:00<00:00, 75.02it/s]\n",
      "total 3.58, policy 3.12: 100%|██████████| 48/48 [00:03<00:00, 14.25it/s]\n",
      "100%|██████████| 48/48 [00:00<00:00, 78.78it/s]\n",
      "total 3.37, policy 4.76: 100%|██████████| 48/48 [00:03<00:00, 13.85it/s]\n",
      "100%|██████████| 48/48 [00:00<00:00, 75.28it/s] \n"
     ]
    },
    {
     "data": {
      "application/vnd.jupyter.widget-view+json": {
       "model_id": "062e347ead0b4ff88e86b7e71816e18b",
       "version_major": 2,
       "version_minor": 0
      },
      "text/plain": [
       "VBox(children=(Label(value='0.538 MB of 0.538 MB uploaded\\r'), FloatProgress(value=1.0, max=1.0)))"
      ]
     },
     "metadata": {},
     "output_type": "display_data"
    },
    {
     "data": {
      "text/html": [
       "<style>\n",
       "    table.wandb td:nth-child(1) { padding: 0 10px; text-align: left ; width: auto;} td:nth-child(2) {text-align: left ; width: 100%}\n",
       "    .wandb-row { display: flex; flex-direction: row; flex-wrap: wrap; justify-content: flex-start; width: 100% }\n",
       "    .wandb-col { display: flex; flex-direction: column; flex-basis: 100%; flex: 1; padding: 10px; }\n",
       "    </style>\n",
       "<div class=\"wandb-row\"><div class=\"wandb-col\"><h3>Run history:</h3><br/><table class=\"wandb\"><tr><td>step</td><td>▁▁▁▂▂▂▂▂▂▃▃▃▃▃▃▄▄▄▄▄▅▅▅▅▅▅▆▆▆▆▆▇▇▇▇▇▇███</td></tr><tr><td>train/policy_loss</td><td>▇▆▃▇▃▄▆▄▃▅▃▁▂▄▃▂▃▅▅▁▆▆▅▆▁▁▁▅▂▄▅▅▆▄▂▅▅▂▆█</td></tr><tr><td>train/total_loss</td><td>██▇▇▆▆▅▅▅▅▅▄▄▅▃▃▃▃▃▂▃▃▂▂▂▂▂▂▂▂▂▁▂▁▁▁▁▁▂▂</td></tr><tr><td>val/loss</td><td>█▇▇▆▅▃▄▄▃▃▂▄▂▂▃▂▄▂▃▃▂▃▂▁▃▃▄▂▁▂▃▂▁▂▃▁▂▂▁▁</td></tr></table><br/></div><div class=\"wandb-col\"><h3>Run summary:</h3><br/><table class=\"wandb\"><tr><td>step</td><td>1178</td></tr><tr><td>train/policy_loss</td><td>4.75554</td></tr><tr><td>train/total_loss</td><td>3.36983</td></tr><tr><td>val/loss</td><td>1.44315</td></tr></table><br/></div></div>"
      ],
      "text/plain": [
       "<IPython.core.display.HTML object>"
      ]
     },
     "metadata": {},
     "output_type": "display_data"
    },
    {
     "data": {
      "text/html": [
       " View run <strong style=\"color:#cdcd00\">revived-eon-2</strong> at: <a href='https://wandb.ai/david-alvear/GNN-AttentionPlanning-Train/runs/rgcitk0l' target=\"_blank\">https://wandb.ai/david-alvear/GNN-AttentionPlanning-Train/runs/rgcitk0l</a><br/>Synced 5 W&B file(s), 0 media file(s), 0 artifact file(s) and 1 other file(s)"
      ],
      "text/plain": [
       "<IPython.core.display.HTML object>"
      ]
     },
     "metadata": {},
     "output_type": "display_data"
    },
    {
     "data": {
      "text/html": [
       "Find logs at: <code>./wandb/run-20231201_092128-rgcitk0l/logs</code>"
      ],
      "text/plain": [
       "<IPython.core.display.HTML object>"
      ]
     },
     "metadata": {},
     "output_type": "display_data"
    }
   ],
   "source": [
    "\n",
    "data_path = './kuka_prm_14.pkl'\n",
    "model_path = './data/improved/kuka_prm_14_MHA.pt'\n",
    "env = Kuka2Env(False)   \n",
    "model_explore = AttentionEncoderProcessDecoder(workspace_size=3, config_size=14, embed_size=32, obs_size=6).to(device)\n",
    "train_explorer(48, data_path, model_explore, model_path, env, iter=40, loop=10) # loop=10"
   ]
  },
  {
   "cell_type": "markdown",
   "metadata": {},
   "source": [
    "## Maze Environment"
   ]
  },
  {
   "cell_type": "markdown",
   "metadata": {},
   "source": [
    "### Training Original Model"
   ]
  },
  {
   "cell_type": "code",
   "execution_count": 10,
   "metadata": {},
   "outputs": [
    {
     "name": "stderr",
     "output_type": "stream",
     "text": [
      "Failed to detect the name of this notebook, you can set it manually with the WANDB_NOTEBOOK_NAME environment variable to enable code saving.\n",
      "\u001b[34m\u001b[1mwandb\u001b[0m: Currently logged in as: \u001b[33mdavid-alvear\u001b[0m. Use \u001b[1m`wandb login --relogin`\u001b[0m to force relogin\n"
     ]
    },
    {
     "data": {
      "text/html": [
       "Tracking run with wandb version 0.16.0"
      ],
      "text/plain": [
       "<IPython.core.display.HTML object>"
      ]
     },
     "metadata": {},
     "output_type": "display_data"
    },
    {
     "data": {
      "text/html": [
       "Run data is saved locally in <code>/home/ubuntu/courses/Machine_Learning/FinalProjectPlanning/gnn-motion-planning/wandb/run-20231202_092139-0sustkwl</code>"
      ],
      "text/plain": [
       "<IPython.core.display.HTML object>"
      ]
     },
     "metadata": {},
     "output_type": "display_data"
    },
    {
     "data": {
      "text/html": [
       "Syncing run <strong><a href='https://wandb.ai/david-alvear/GNN-AttentionPlanning-Maze/runs/0sustkwl' target=\"_blank\">dark-bush-4</a></strong> to <a href='https://wandb.ai/david-alvear/GNN-AttentionPlanning-Maze' target=\"_blank\">Weights & Biases</a> (<a href='https://wandb.me/run' target=\"_blank\">docs</a>)<br/>"
      ],
      "text/plain": [
       "<IPython.core.display.HTML object>"
      ]
     },
     "metadata": {},
     "output_type": "display_data"
    },
    {
     "data": {
      "text/html": [
       " View project at <a href='https://wandb.ai/david-alvear/GNN-AttentionPlanning-Maze' target=\"_blank\">https://wandb.ai/david-alvear/GNN-AttentionPlanning-Maze</a>"
      ],
      "text/plain": [
       "<IPython.core.display.HTML object>"
      ]
     },
     "metadata": {},
     "output_type": "display_data"
    },
    {
     "data": {
      "text/html": [
       " View run at <a href='https://wandb.ai/david-alvear/GNN-AttentionPlanning-Maze/runs/0sustkwl' target=\"_blank\">https://wandb.ai/david-alvear/GNN-AttentionPlanning-Maze/runs/0sustkwl</a>"
      ],
      "text/plain": [
       "<IPython.core.display.HTML object>"
      ]
     },
     "metadata": {},
     "output_type": "display_data"
    },
    {
     "name": "stderr",
     "output_type": "stream",
     "text": [
      "  0%|          | 0/48 [00:00<?, ?it/s]/home/ubuntu/courses/Machine_Learning/FinalProjectPlanning/gnn-motion-planning/train_explorer.py:94: UserWarning: Creating a tensor from a list of numpy.ndarrays is extremely slow. Please consider converting the list to a single numpy.ndarray with numpy.array() before converting to a tensor. (Triggered internally at ../torch/csrc/utils/tensor_new.cpp:261.)\n",
      "  next_edge_idx = (torch.FloatTensor(frontier).view(2, -1) - torch.FloatTensor(next_edge).unsqueeze(-1)).norm(dim=0).argmin()\n",
      "total 8.75, policy 2.31: 100%|██████████| 48/48 [00:03<00:00, 15.75it/s]\n",
      "100%|██████████| 48/48 [00:00<00:00, 78.25it/s]\n",
      "total 8.19, policy 3.69: 100%|██████████| 48/48 [00:01<00:00, 33.53it/s]\n",
      "100%|██████████| 48/48 [00:00<00:00, 58.92it/s]\n",
      "total 8.09, policy 2.82: 100%|██████████| 48/48 [00:01<00:00, 34.58it/s]\n",
      "100%|██████████| 48/48 [00:00<00:00, 73.31it/s]\n",
      "total 7.55, policy 1.38: 100%|██████████| 48/48 [00:01<00:00, 43.79it/s]\n",
      "100%|██████████| 48/48 [00:00<00:00, 50.45it/s]\n",
      "total 7.95, policy 2.49: 100%|██████████| 48/48 [00:01<00:00, 42.12it/s]\n",
      "100%|██████████| 48/48 [00:00<00:00, 85.37it/s]\n",
      "total 7.39, policy 3.64: 100%|██████████| 48/48 [00:01<00:00, 40.89it/s]\n",
      "100%|██████████| 48/48 [00:00<00:00, 57.87it/s]\n",
      "total 7.14, policy 1.61: 100%|██████████| 48/48 [00:01<00:00, 32.69it/s]\n",
      "100%|██████████| 48/48 [00:00<00:00, 64.38it/s]\n",
      "total 7.57, policy 2.70: 100%|██████████| 48/48 [00:01<00:00, 33.65it/s]\n",
      "100%|██████████| 48/48 [00:00<00:00, 58.35it/s]\n",
      "total 6.72, policy 2.19: 100%|██████████| 48/48 [00:01<00:00, 35.20it/s]\n",
      "100%|██████████| 48/48 [00:00<00:00, 51.27it/s]\n",
      "total 6.31, policy 1.61: 100%|██████████| 48/48 [00:01<00:00, 39.66it/s]\n",
      "100%|██████████| 48/48 [00:00<00:00, 77.53it/s]\n",
      "total 6.12, policy 1.10: 100%|██████████| 48/48 [00:01<00:00, 27.43it/s]\n",
      "100%|██████████| 48/48 [00:00<00:00, 62.66it/s]\n",
      "total 6.31, policy 1.94: 100%|██████████| 48/48 [00:01<00:00, 39.11it/s]\n",
      "100%|██████████| 48/48 [00:00<00:00, 60.84it/s] \n",
      "total 6.20, policy 1.60: 100%|██████████| 48/48 [00:01<00:00, 33.65it/s]\n",
      "100%|██████████| 48/48 [00:00<00:00, 55.50it/s]\n",
      "total 6.52, policy 3.66: 100%|██████████| 48/48 [00:01<00:00, 35.70it/s]\n",
      "100%|██████████| 48/48 [00:00<00:00, 59.00it/s]\n",
      "total 5.64, policy 3.29: 100%|██████████| 48/48 [00:01<00:00, 38.65it/s]\n",
      "100%|██████████| 48/48 [00:00<00:00, 62.02it/s]\n",
      "total 5.67, policy 2.19: 100%|██████████| 48/48 [00:01<00:00, 30.26it/s]\n",
      "100%|██████████| 48/48 [00:00<00:00, 56.85it/s] \n",
      "total 5.13, policy 1.79: 100%|██████████| 48/48 [00:01<00:00, 31.59it/s]\n",
      "100%|██████████| 48/48 [00:01<00:00, 38.80it/s]\n",
      "total 5.09, policy 2.20: 100%|██████████| 48/48 [00:01<00:00, 35.61it/s]\n",
      "100%|██████████| 48/48 [00:01<00:00, 30.69it/s]\n",
      "total 5.13, policy 1.61: 100%|██████████| 48/48 [00:02<00:00, 23.66it/s]\n",
      "100%|██████████| 48/48 [00:00<00:00, 53.39it/s]\n",
      "total 5.04, policy 2.29: 100%|██████████| 48/48 [00:01<00:00, 41.71it/s]\n",
      "100%|██████████| 48/48 [00:00<00:00, 48.45it/s]\n",
      "total 4.93, policy 1.61: 100%|██████████| 48/48 [00:01<00:00, 29.73it/s]\n",
      "100%|██████████| 48/48 [00:00<00:00, 60.54it/s] \n",
      "total 4.90, policy 1.61: 100%|██████████| 48/48 [00:01<00:00, 25.66it/s] \n",
      "100%|██████████| 48/48 [00:01<00:00, 40.58it/s]\n",
      "total 4.97, policy 1.94: 100%|██████████| 48/48 [00:01<00:00, 36.56it/s]\n",
      "100%|██████████| 48/48 [00:00<00:00, 55.25it/s]\n",
      "total 4.34, policy 3.55: 100%|██████████| 48/48 [00:01<00:00, 29.44it/s]\n",
      "100%|██████████| 48/48 [00:01<00:00, 31.28it/s]\n",
      "total 4.42, policy 1.10: 100%|██████████| 48/48 [00:01<00:00, 24.85it/s]\n",
      "100%|██████████| 48/48 [00:01<00:00, 47.00it/s]\n",
      "total 4.56, policy 2.96: 100%|██████████| 48/48 [00:01<00:00, 25.61it/s]\n",
      "100%|██████████| 48/48 [00:00<00:00, 52.95it/s]\n",
      "total 4.00, policy 1.10: 100%|██████████| 48/48 [00:01<00:00, 40.76it/s]\n",
      "100%|██████████| 48/48 [00:01<00:00, 39.75it/s]\n",
      "total 4.41, policy 3.04: 100%|██████████| 48/48 [00:01<00:00, 28.25it/s]\n",
      "100%|██████████| 48/48 [00:00<00:00, 67.85it/s] \n",
      "total 4.61, policy 3.39: 100%|██████████| 48/48 [00:01<00:00, 34.52it/s]\n",
      "100%|██████████| 48/48 [00:00<00:00, 59.54it/s] \n",
      "total 4.03, policy 3.46: 100%|██████████| 48/48 [00:01<00:00, 31.32it/s]\n",
      "100%|██████████| 48/48 [00:00<00:00, 97.38it/s] \n",
      "total 4.60, policy 2.88: 100%|██████████| 48/48 [00:01<00:00, 34.07it/s]\n",
      "100%|██████████| 48/48 [00:01<00:00, 46.14it/s]\n",
      "total 3.90, policy 1.61: 100%|██████████| 48/48 [00:01<00:00, 30.66it/s]\n",
      "100%|██████████| 48/48 [00:01<00:00, 39.45it/s]\n",
      "total 4.06, policy 1.94: 100%|██████████| 48/48 [00:01<00:00, 38.20it/s]\n",
      "100%|██████████| 48/48 [00:01<00:00, 34.89it/s] \n",
      "total 3.95, policy 2.97: 100%|██████████| 48/48 [00:01<00:00, 28.31it/s]\n",
      "100%|██████████| 48/48 [00:00<00:00, 49.41it/s]\n",
      "total 4.03, policy 1.35: 100%|██████████| 48/48 [00:01<00:00, 36.59it/s]\n",
      "100%|██████████| 48/48 [00:00<00:00, 56.14it/s]\n",
      "total 3.76, policy 2.95: 100%|██████████| 48/48 [00:01<00:00, 43.57it/s]\n",
      "100%|██████████| 48/48 [00:00<00:00, 60.59it/s]\n",
      "total 3.77, policy 2.84: 100%|██████████| 48/48 [00:01<00:00, 30.19it/s]\n",
      "100%|██████████| 48/48 [00:01<00:00, 40.47it/s]\n",
      "total 3.69, policy 2.29: 100%|██████████| 48/48 [00:01<00:00, 25.79it/s]\n",
      "100%|██████████| 48/48 [00:00<00:00, 68.06it/s] \n",
      "total 3.47, policy 2.49: 100%|██████████| 48/48 [00:01<00:00, 26.78it/s]\n",
      "100%|██████████| 48/48 [00:00<00:00, 48.58it/s]\n",
      "total 3.43, policy 2.22: 100%|██████████| 48/48 [00:01<00:00, 32.18it/s]\n",
      "100%|██████████| 48/48 [00:00<00:00, 48.50it/s]\n"
     ]
    },
    {
     "data": {
      "application/vnd.jupyter.widget-view+json": {
       "model_id": "3d7dea408e114638a5d166d017ca6e4a",
       "version_major": 2,
       "version_minor": 0
      },
      "text/plain": [
       "VBox(children=(Label(value='0.331 MB of 0.821 MB uploaded\\r'), FloatProgress(value=0.40267829879030714, max=1.…"
      ]
     },
     "metadata": {},
     "output_type": "display_data"
    },
    {
     "data": {
      "text/html": [
       "<style>\n",
       "    table.wandb td:nth-child(1) { padding: 0 10px; text-align: left ; width: auto;} td:nth-child(2) {text-align: left ; width: 100%}\n",
       "    .wandb-row { display: flex; flex-direction: row; flex-wrap: wrap; justify-content: flex-start; width: 100% }\n",
       "    .wandb-col { display: flex; flex-direction: column; flex-basis: 100%; flex: 1; padding: 10px; }\n",
       "    </style>\n",
       "<div class=\"wandb-row\"><div class=\"wandb-col\"><h3>Run history:</h3><br/><table class=\"wandb\"><tr><td>step</td><td>▁▁▁▁▂▂▂▂▂▃▃▃▃▃▃▄▄▄▄▄▅▅▅▅▅▅▆▆▆▆▆▇▇▇▇▇▇███</td></tr><tr><td>train/policy_loss</td><td>▃▄█▄▂▄▇▂▃▄▂▂▆▃▃▆▄▃▄▅▄▂▂▃▇▂▂▁▅█▇▅▄▃▂▄▃▂▇▂</td></tr><tr><td>train/total_loss</td><td>██▇▇▇▇▆▆▆▅▅▅▅▄▄▄▄▄▄▃▃▃▃▃▃▃▂▂▃▂▂▃▂▂▂▂▂▁▂▁</td></tr><tr><td>val/loss</td><td>▂▄▁▃▄▄▃▅▅▁▆▂▃█▂▃▅▅▆▃▅▄▇▅▇▅▆▅▃▄▂▆▆▄█▅▇▇▄▆</td></tr></table><br/></div><div class=\"wandb-col\"><h3>Run summary:</h3><br/><table class=\"wandb\"><tr><td>step</td><td>1075</td></tr><tr><td>train/policy_loss</td><td>2.22024</td></tr><tr><td>train/total_loss</td><td>3.42704</td></tr><tr><td>val/loss</td><td>2.39497</td></tr></table><br/></div></div>"
      ],
      "text/plain": [
       "<IPython.core.display.HTML object>"
      ]
     },
     "metadata": {},
     "output_type": "display_data"
    },
    {
     "data": {
      "text/html": [
       " View run <strong style=\"color:#cdcd00\">dark-bush-4</strong> at: <a href='https://wandb.ai/david-alvear/GNN-AttentionPlanning-Maze/runs/0sustkwl' target=\"_blank\">https://wandb.ai/david-alvear/GNN-AttentionPlanning-Maze/runs/0sustkwl</a><br/>Synced 5 W&B file(s), 0 media file(s), 0 artifact file(s) and 1 other file(s)"
      ],
      "text/plain": [
       "<IPython.core.display.HTML object>"
      ]
     },
     "metadata": {},
     "output_type": "display_data"
    },
    {
     "data": {
      "text/html": [
       "Find logs at: <code>./wandb/run-20231202_092139-0sustkwl/logs</code>"
      ],
      "text/plain": [
       "<IPython.core.display.HTML object>"
      ]
     },
     "metadata": {},
     "output_type": "display_data"
    }
   ],
   "source": [
    "data_path = './maze_prm_4000.pkl'\n",
    "model_path = './data/improved/maze_2d_Original.pt'\n",
    "env = MazeEnv(dim=2)\n",
    "model_explore = EncoderProcessDecoder(workspace_size=2, config_size=2, embed_size=32, obs_size=2).to(device)\n",
    "train_explorer(48, data_path, model_explore, model_path, env, iter=40, loop=10)"
   ]
  },
  {
   "cell_type": "markdown",
   "metadata": {},
   "source": [
    "### Training Proposed Model"
   ]
  },
  {
   "cell_type": "code",
   "execution_count": 6,
   "metadata": {},
   "outputs": [
    {
     "data": {
      "text/html": [
       "Tracking run with wandb version 0.16.0"
      ],
      "text/plain": [
       "<IPython.core.display.HTML object>"
      ]
     },
     "metadata": {},
     "output_type": "display_data"
    },
    {
     "data": {
      "text/html": [
       "Run data is saved locally in <code>/home/ubuntu/courses/Machine_Learning/FinalProjectPlanning/gnn-motion-planning/wandb/run-20231201_110957-zylsqrwi</code>"
      ],
      "text/plain": [
       "<IPython.core.display.HTML object>"
      ]
     },
     "metadata": {},
     "output_type": "display_data"
    },
    {
     "data": {
      "text/html": [
       "Syncing run <strong><a href='https://wandb.ai/david-alvear/GNN-AttentionPlanning-Maze/runs/zylsqrwi' target=\"_blank\">balmy-fog-3</a></strong> to <a href='https://wandb.ai/david-alvear/GNN-AttentionPlanning-Maze' target=\"_blank\">Weights & Biases</a> (<a href='https://wandb.me/run' target=\"_blank\">docs</a>)<br/>"
      ],
      "text/plain": [
       "<IPython.core.display.HTML object>"
      ]
     },
     "metadata": {},
     "output_type": "display_data"
    },
    {
     "data": {
      "text/html": [
       " View project at <a href='https://wandb.ai/david-alvear/GNN-AttentionPlanning-Maze' target=\"_blank\">https://wandb.ai/david-alvear/GNN-AttentionPlanning-Maze</a>"
      ],
      "text/plain": [
       "<IPython.core.display.HTML object>"
      ]
     },
     "metadata": {},
     "output_type": "display_data"
    },
    {
     "data": {
      "text/html": [
       " View run at <a href='https://wandb.ai/david-alvear/GNN-AttentionPlanning-Maze/runs/zylsqrwi' target=\"_blank\">https://wandb.ai/david-alvear/GNN-AttentionPlanning-Maze/runs/zylsqrwi</a>"
      ],
      "text/plain": [
       "<IPython.core.display.HTML object>"
      ]
     },
     "metadata": {},
     "output_type": "display_data"
    },
    {
     "name": "stderr",
     "output_type": "stream",
     "text": [
      "total 11.39, policy 1.94: 100%|██████████| 48/48 [00:02<00:00, 23.43it/s]\n",
      "100%|██████████| 48/48 [00:00<00:00, 58.04it/s]\n",
      "total 10.86, policy 2.53: 100%|██████████| 48/48 [00:01<00:00, 31.08it/s]\n",
      "100%|██████████| 48/48 [00:00<00:00, 56.12it/s]\n",
      "total 10.73, policy 2.94: 100%|██████████| 48/48 [00:02<00:00, 20.46it/s]\n",
      "100%|██████████| 48/48 [00:00<00:00, 71.65it/s]\n",
      "total 10.30, policy 2.70: 100%|██████████| 48/48 [00:01<00:00, 34.20it/s]\n",
      "100%|██████████| 48/48 [00:00<00:00, 53.73it/s]\n",
      "total 10.08, policy 1.78: 100%|██████████| 48/48 [00:01<00:00, 33.09it/s]\n",
      "100%|██████████| 48/48 [00:00<00:00, 48.91it/s]\n",
      "total 9.43, policy 1.88: 100%|██████████| 48/48 [00:01<00:00, 40.14it/s]\n",
      "100%|██████████| 48/48 [00:00<00:00, 64.37it/s]\n",
      "total 8.82, policy 2.72: 100%|██████████| 48/48 [00:01<00:00, 34.36it/s]\n",
      "100%|██████████| 48/48 [00:01<00:00, 40.00it/s]\n",
      "total 8.92, policy 3.55: 100%|██████████| 48/48 [00:01<00:00, 32.73it/s]\n",
      "100%|██████████| 48/48 [00:01<00:00, 38.47it/s]\n",
      "total 8.66, policy 1.75: 100%|██████████| 48/48 [00:01<00:00, 28.08it/s]\n",
      "100%|██████████| 48/48 [00:01<00:00, 42.59it/s]\n",
      "total 8.31, policy 1.29: 100%|██████████| 48/48 [00:02<00:00, 22.96it/s]\n",
      "100%|██████████| 48/48 [00:00<00:00, 49.72it/s]\n",
      "total 8.04, policy 2.40: 100%|██████████| 48/48 [00:01<00:00, 28.24it/s]\n",
      "100%|██████████| 48/48 [00:00<00:00, 56.71it/s]\n",
      "total 7.81, policy 3.86: 100%|██████████| 48/48 [00:01<00:00, 35.11it/s]\n",
      "100%|██████████| 48/48 [00:00<00:00, 67.46it/s]\n",
      "total 7.42, policy 1.90: 100%|██████████| 48/48 [00:01<00:00, 29.33it/s]\n",
      "100%|██████████| 48/48 [00:00<00:00, 66.52it/s]\n",
      "total 6.90, policy 2.24: 100%|██████████| 48/48 [00:01<00:00, 27.13it/s]\n",
      "100%|██████████| 48/48 [00:00<00:00, 51.56it/s] \n",
      "total 6.85, policy 2.76: 100%|██████████| 48/48 [00:01<00:00, 27.99it/s]\n",
      "100%|██████████| 48/48 [00:00<00:00, 69.84it/s] \n",
      "total 6.82, policy 0.60: 100%|██████████| 48/48 [00:01<00:00, 25.49it/s]\n",
      "100%|██████████| 48/48 [00:00<00:00, 60.72it/s]\n",
      "total 7.02, policy 4.25: 100%|██████████| 48/48 [00:01<00:00, 31.81it/s]\n",
      "100%|██████████| 48/48 [00:01<00:00, 42.67it/s] \n",
      "total 6.94, policy 1.34: 100%|██████████| 48/48 [00:01<00:00, 24.61it/s]\n",
      "100%|██████████| 48/48 [00:00<00:00, 55.32it/s]\n",
      "total 6.41, policy 3.71: 100%|██████████| 48/48 [00:01<00:00, 33.89it/s]\n",
      "100%|██████████| 48/48 [00:00<00:00, 99.55it/s] \n",
      "total 5.17, policy 1.43: 100%|██████████| 48/48 [00:01<00:00, 25.13it/s]\n",
      "100%|██████████| 48/48 [00:00<00:00, 87.36it/s]\n",
      "total 5.54, policy 2.01: 100%|██████████| 48/48 [00:01<00:00, 36.37it/s]\n",
      "100%|██████████| 48/48 [00:00<00:00, 90.71it/s] \n",
      "total 5.57, policy 4.21: 100%|██████████| 48/48 [00:01<00:00, 40.80it/s]\n",
      "100%|██████████| 48/48 [00:00<00:00, 117.16it/s]\n",
      "total 4.44, policy 2.48: 100%|██████████| 48/48 [00:01<00:00, 35.01it/s]\n",
      "100%|██████████| 48/48 [00:00<00:00, 114.37it/s]\n",
      "total 4.53, policy 2.31: 100%|██████████| 48/48 [00:01<00:00, 37.35it/s]\n",
      "100%|██████████| 48/48 [00:00<00:00, 103.26it/s]\n",
      "total 4.02, policy 0.43: 100%|██████████| 48/48 [00:01<00:00, 37.87it/s]\n",
      "100%|██████████| 48/48 [00:00<00:00, 95.86it/s] \n",
      "total 3.68, policy 2.02: 100%|██████████| 48/48 [00:01<00:00, 42.78it/s]\n",
      "100%|██████████| 48/48 [00:00<00:00, 90.58it/s] \n",
      "total 3.47, policy 0.03: 100%|██████████| 48/48 [00:01<00:00, 35.28it/s]\n",
      "100%|██████████| 48/48 [00:00<00:00, 93.52it/s] \n",
      "total 2.89, policy 0.57: 100%|██████████| 48/48 [00:01<00:00, 38.16it/s]\n",
      "100%|██████████| 48/48 [00:00<00:00, 113.10it/s]\n",
      "total 3.02, policy 0.22: 100%|██████████| 48/48 [00:01<00:00, 39.75it/s]\n",
      "100%|██████████| 48/48 [00:00<00:00, 113.24it/s]\n",
      "total 3.06, policy 0.38: 100%|██████████| 48/48 [00:01<00:00, 43.38it/s]\n",
      "100%|██████████| 48/48 [00:00<00:00, 79.83it/s]\n",
      "total 3.93, policy 0.45: 100%|██████████| 48/48 [00:01<00:00, 35.53it/s]\n",
      "100%|██████████| 48/48 [00:00<00:00, 67.91it/s]\n",
      "total 3.01, policy 0.52: 100%|██████████| 48/48 [00:01<00:00, 40.26it/s]\n",
      "100%|██████████| 48/48 [00:00<00:00, 98.48it/s] \n",
      "total 2.57, policy 0.76: 100%|██████████| 48/48 [00:01<00:00, 35.68it/s]\n",
      "100%|██████████| 48/48 [00:00<00:00, 118.03it/s]\n",
      "total 2.07, policy 0.05: 100%|██████████| 48/48 [00:01<00:00, 33.27it/s]\n",
      "100%|██████████| 48/48 [00:00<00:00, 92.58it/s] \n",
      "total 2.10, policy 0.11: 100%|██████████| 48/48 [00:01<00:00, 38.95it/s]\n",
      "100%|██████████| 48/48 [00:00<00:00, 81.28it/s] \n",
      "total 2.70, policy 1.87: 100%|██████████| 48/48 [00:00<00:00, 48.59it/s]\n",
      "100%|██████████| 48/48 [00:00<00:00, 87.80it/s] \n",
      "total 2.42, policy 0.12: 100%|██████████| 48/48 [00:01<00:00, 43.42it/s]\n",
      "100%|██████████| 48/48 [00:00<00:00, 102.70it/s]\n",
      "total 2.35, policy 3.12: 100%|██████████| 48/48 [00:01<00:00, 34.45it/s]\n",
      "100%|██████████| 48/48 [00:00<00:00, 96.08it/s]\n",
      "total 2.70, policy 1.01: 100%|██████████| 48/48 [00:01<00:00, 46.00it/s]\n",
      "100%|██████████| 48/48 [00:00<00:00, 87.36it/s] \n",
      "total 2.62, policy 0.20: 100%|██████████| 48/48 [00:00<00:00, 49.22it/s]\n",
      "100%|██████████| 48/48 [00:00<00:00, 89.17it/s] \n"
     ]
    },
    {
     "data": {
      "application/vnd.jupyter.widget-view+json": {
       "model_id": "b7dbfab4d1fb4fc2b73f81bff4a081ab",
       "version_major": 2,
       "version_minor": 0
      },
      "text/plain": [
       "VBox(children=(Label(value='0.523 MB of 1.271 MB uploaded\\r'), FloatProgress(value=0.4116601557078239, max=1.0…"
      ]
     },
     "metadata": {},
     "output_type": "display_data"
    },
    {
     "data": {
      "text/html": [
       "<style>\n",
       "    table.wandb td:nth-child(1) { padding: 0 10px; text-align: left ; width: auto;} td:nth-child(2) {text-align: left ; width: 100%}\n",
       "    .wandb-row { display: flex; flex-direction: row; flex-wrap: wrap; justify-content: flex-start; width: 100% }\n",
       "    .wandb-col { display: flex; flex-direction: column; flex-basis: 100%; flex: 1; padding: 10px; }\n",
       "    </style>\n",
       "<div class=\"wandb-row\"><div class=\"wandb-col\"><h3>Run history:</h3><br/><table class=\"wandb\"><tr><td>step</td><td>▁▁▁▂▂▂▂▂▂▃▃▃▃▃▃▄▄▄▄▄▅▅▅▅▅▅▆▆▆▆▆▇▇▇▇▇▇███</td></tr><tr><td>train/policy_loss</td><td>▇▄▃▆▄▄▄▆▄▆▃▅▄▆▅▆▇█▃█▃▁▁▅▅▃▅▁▆▄▂▅▁▂▁▁▄▁▁▁</td></tr><tr><td>train/total_loss</td><td>███▇▇▇▆▆▆▆▆▅▅▅▅▅▄▅▅▄▃▃▃▃▃▃▃▂▂▃▂▂▂▁▁▁▂▁▁▁</td></tr><tr><td>val/loss</td><td>▇▇▇▇▇████▇▇▆▇▇▅▄▅▂▄▅▂▁▃▃▃▄▃▃▁▃▂▂▁▂▂▂▁▂▁▂</td></tr></table><br/></div><div class=\"wandb-col\"><h3>Run summary:</h3><br/><table class=\"wandb\"><tr><td>step</td><td>1075</td></tr><tr><td>train/policy_loss</td><td>0.20323</td></tr><tr><td>train/total_loss</td><td>2.61756</td></tr><tr><td>val/loss</td><td>0.73034</td></tr></table><br/></div></div>"
      ],
      "text/plain": [
       "<IPython.core.display.HTML object>"
      ]
     },
     "metadata": {},
     "output_type": "display_data"
    },
    {
     "data": {
      "text/html": [
       " View run <strong style=\"color:#cdcd00\">balmy-fog-3</strong> at: <a href='https://wandb.ai/david-alvear/GNN-AttentionPlanning-Maze/runs/zylsqrwi' target=\"_blank\">https://wandb.ai/david-alvear/GNN-AttentionPlanning-Maze/runs/zylsqrwi</a><br/>Synced 5 W&B file(s), 0 media file(s), 0 artifact file(s) and 1 other file(s)"
      ],
      "text/plain": [
       "<IPython.core.display.HTML object>"
      ]
     },
     "metadata": {},
     "output_type": "display_data"
    },
    {
     "data": {
      "text/html": [
       "Find logs at: <code>./wandb/run-20231201_110957-zylsqrwi/logs</code>"
      ],
      "text/plain": [
       "<IPython.core.display.HTML object>"
      ]
     },
     "metadata": {},
     "output_type": "display_data"
    }
   ],
   "source": [
    "data_path = './maze_prm_4000.pkl'\n",
    "model_path = './data/improved/maze_2d_MHA.pt'\n",
    "env = MazeEnv(dim=2)  \n",
    "model_explore = AttentionEncoderProcessDecoder(workspace_size=2, config_size=2, embed_size=32, obs_size=2).to(device)\n",
    "train_explorer(48, data_path, model_explore, model_path, env, iter=40, loop=10)"
   ]
  },
  {
   "cell_type": "markdown",
   "metadata": {},
   "source": [
    "# TESTING"
   ]
  },
  {
   "cell_type": "markdown",
   "metadata": {},
   "source": [
    "## Test KUKA 14 DoF"
   ]
  },
  {
   "cell_type": "markdown",
   "metadata": {},
   "source": [
    "### Original Model"
   ]
  },
  {
   "cell_type": "code",
   "execution_count": 17,
   "metadata": {},
   "outputs": [
    {
     "name": "stderr",
     "output_type": "stream",
     "text": [
      "  0%|          | 0/1000 [00:00<?, ?it/s]/home/ubuntu/courses/Machine_Learning/FinalProjectPlanning/gnn-motion-planning/eval_gnn.py:34: UserWarning: Creating a tensor from a list of numpy.ndarrays is extremely slow. Please consider converting the list to a single numpy.ndarray with numpy.array() before converting to a tensor. (Triggered internally at ../torch/csrc/utils/tensor_new.cpp:261.)\n",
      "  'obstacles': torch.FloatTensor(env.obstacles).to(device),\n",
      "100%|██████████| 1000/1000 [01:33<00:00, 10.67it/s]\n"
     ]
    }
   ],
   "source": [
    "bs = 100  # only sample 100 points\n",
    "kuka_results_original = []\n",
    "env = Kuka2Env(False)\n",
    "indexes = np.arange(1000)  \n",
    "# Define Models\n",
    "model_explore = EncoderProcessDecoder(workspace_size=3, config_size=14, embed_size=32, obs_size=6).to(device)                                          # model explore\n",
    "model_smooth = ModelSmoother(workspace_size=env.dim, config_size=env.config_dim, embed_size=128, obs_size=6).to(device)\n",
    "model_explore_path = './data/improved/kuka_prm_14_Original.pt'\n",
    "model_explore.load_state_dict(torch.load(model_explore_path, map_location=torch.device(\"cpu\")))                                             # load model explore weights\n",
    "model_smooth_path = 'data/weights/smooth_14d_attv3.pt'\n",
    "model_smooth.load_state_dict(torch.load(model_smooth_path, map_location=torch.device(\"cpu\")))\n",
    "# Test the model in 1000 different problems\n",
    "for i in tqdm(range(1000)):\n",
    "    env.init_new_problem(i)\n",
    "    set_random_seed(1234)\n",
    "    result = explore(env, model_explore, model_smooth, smooth=True, smoother='none', batch=bs, t_max=bs, k=10) \n",
    "    kuka_results_original.append(result)"
   ]
  },
  {
   "cell_type": "markdown",
   "metadata": {},
   "source": [
    "### Proposed Model"
   ]
  },
  {
   "cell_type": "code",
   "execution_count": 18,
   "metadata": {},
   "outputs": [
    {
     "name": "stderr",
     "output_type": "stream",
     "text": [
      "100%|██████████| 1000/1000 [01:38<00:00, 10.16it/s]\n"
     ]
    }
   ],
   "source": [
    "bs = 100  # only sample 100 points\n",
    "kuka_results = []\n",
    "env = Kuka2Env(False)\n",
    "# Define Models\n",
    "model_explore = AttentionEncoderProcessDecoder(workspace_size=3, config_size=14, embed_size=32, obs_size=6).to(device)                      # model explore\n",
    "model_smooth = ModelSmoother(workspace_size=env.dim, config_size=env.config_dim, embed_size=128, obs_size=6).to(device)\n",
    "model_explore_path = './data/improved/kuka_prm_14_MHA.pt'\n",
    "model_explore.load_state_dict(torch.load(model_explore_path, map_location=torch.device(\"cpu\")))                                             # load model explore weights\n",
    "model_smooth_path = 'data/weights/smooth_14d_attv3.pt'\n",
    "model_smooth.load_state_dict(torch.load(model_smooth_path, map_location=torch.device(\"cpu\")))\n",
    "# Test the model in 1000 different problems\n",
    "for i in tqdm(range(1000)):\n",
    "    env.init_new_problem(i)\n",
    "    set_random_seed(1234)\n",
    "    result = explore(env, model_explore, model_smooth, smooth=True, smoother='none', batch=bs, t_max=bs, k=10) \n",
    "    kuka_results.append(result)"
   ]
  },
  {
   "cell_type": "markdown",
   "metadata": {},
   "source": [
    "### RRT Model"
   ]
  },
  {
   "cell_type": "code",
   "execution_count": 26,
   "metadata": {},
   "outputs": [
    {
     "name": "stderr",
     "output_type": "stream",
     "text": [
      "100%|██████████| 1000/1000 [05:54<00:00,  2.82it/s]\n"
     ]
    }
   ],
   "source": [
    "# Test the model in 1000 different problems\n",
    "bs = 100  # only sample 100 points\n",
    "kuka_results_rrt = []\n",
    "kuka_results_rrt_time = []\n",
    "t_max = 1000\n",
    "env = Kuka2Env(False)\n",
    "for i in tqdm(range(1000)):\n",
    "    env.init_new_problem(i)\n",
    "    set_random_seed(1234)\n",
    "    t0 = time()\n",
    "    result = NEXT_plan(\n",
    "            env=env,\n",
    "            model=None, # Set model to None to use RRT planner\n",
    "            T=t_max,\n",
    "            g_explore_eps=1.,\n",
    "            stop_when_success=True,\n",
    "            UCB_type='kde'\n",
    "        )\n",
    "    kuka_results_rrt.append(result)\n",
    "    kuka_results_rrt_time.append(time()-t0)"
   ]
  },
  {
   "cell_type": "markdown",
   "metadata": {},
   "source": [
    "### Dijkstra Algorithm"
   ]
  },
  {
   "cell_type": "code",
   "execution_count": 27,
   "metadata": {},
   "outputs": [
    {
     "name": "stderr",
     "output_type": "stream",
     "text": [
      "  0%|          | 4/1000 [00:02<12:53,  1.29it/s]"
     ]
    },
    {
     "name": "stderr",
     "output_type": "stream",
     "text": [
      "100%|██████████| 1000/1000 [14:43<00:00,  1.13it/s]\n"
     ]
    }
   ],
   "source": [
    "# Test the model in 1000 different problems\n",
    "kuka_time_dk = []\n",
    "env = Kuka2Env(False)\n",
    "for i in tqdm(range(1000)):\n",
    "    env.init_new_problem(i)\n",
    "    set_random_seed(1234)\n",
    "    points = env.uniform_sample(n=np.random.randint(100, 400))\n",
    "    time0 = time()\n",
    "    edge_cost, neighbors, edge_index, edge_free = construct_graph(env, points)\n",
    "    dist, prev = dijkstra(list(range(len(points))), neighbors, edge_cost, 0)\n",
    "    valid_goal = np.logical_and(np.array(list(dist.values())) != INFINITY, np.array(list(dist.values()))!=0)\n",
    "    # print(valid_goal)\n",
    "    # goal_index = np.random.choice(len(valid_goal), p=valid_goal.astype(float)/sum(valid_goal))\n",
    "    kuka_time_dk.append(time()-time0)"
   ]
  },
  {
   "cell_type": "markdown",
   "metadata": {},
   "source": [
    "### Comparison"
   ]
  },
  {
   "cell_type": "code",
   "execution_count": 37,
   "metadata": {},
   "outputs": [],
   "source": [
    "def delete_outliers(array):\n",
    "    # Calculate Q1, Q3, and IQR\n",
    "    Q1 = np.percentile(array, 25)\n",
    "    Q3 = np.percentile(array, 75)\n",
    "    IQR = Q3 - Q1\n",
    "\n",
    "    # Define bounds for outliers\n",
    "    lower_bound = Q1 - 1.5 * IQR\n",
    "    upper_bound = Q3 + 1.5 * IQR\n",
    "\n",
    "    # Filter out outliers\n",
    "    filtered_array = array[(array >= lower_bound) & (array <= upper_bound)]\n",
    "    return filtered_array\n",
    "# Collision numbers\n",
    "kuka_c_original = np.array([r['c_explore'] for r in kuka_results_original]) # Collision numbers\n",
    "kuka_c = np.array([r['c_explore'] for r in kuka_results]) # Collision numbers\n",
    "# Time\n",
    "kuka_time_original = np.array([r['total_explore'] for r in kuka_results_original])\n",
    "kuka_time = np.array([r['total_explore'] for r in kuka_results]) \n",
    "# Delete outliers\n",
    "# kuka_c_original = delete_outliers(kuka_c_original)\n",
    "# kuka_c = delete_outliers(kuka_c)\n",
    "# kuka_time_original = delete_outliers(kuka_time_original)\n",
    "# kuka_time = delete_outliers(kuka_time)\n",
    "\n",
    "# RRT results\n",
    "# kuka_c_rrt = np.array([r['c_explore'] for r in kuka_results_rrt]) # Collision numbers\n",
    "kuka_c_rrt = [solution[0].cumulated_collision_checks[-1] - solution[0].cumulated_collision_checks[1] for solution in kuka_results_rrt]\n",
    "kuka_time_rrt = np.array(kuka_results_rrt_time)\n",
    "\n",
    "# Dijkstra results\n",
    "kuka_time_dk = np.array(kuka_time_dk)\n"
   ]
  },
  {
   "cell_type": "code",
   "execution_count": 42,
   "metadata": {},
   "outputs": [
    {
     "data": {
      "image/png": "[encoded data removed]",
      "text/plain": [
       "<Figure size 1152x576 with 1 Axes>"
      ]
     },
     "metadata": {
      "needs_background": "light"
     },
     "output_type": "display_data"
    }
   ],
   "source": [
    "# Creating a scatter plot for collisions\n",
    "plt.figure(figsize=(16, 8))\n",
    "# plt.subplot(1, 2, 1)\n",
    "# plt.scatter(range(len(kuka_c_original)), kuka_c_original, alpha=0.5, label='Baseline Model')\n",
    "# plt.scatter(range(len(kuka_c)), kuka_c, alpha=0.5, label='Proposed Model')\n",
    "# plt.title('Collisions per Problem')\n",
    "# plt.xlabel('Problem Index')\n",
    "# plt.ylabel('Number of Collisions')\n",
    "# plt.legend()\n",
    "\n",
    "# Creating a scatter plot for computation time\n",
    "plt.subplot(1, 2, 2)\n",
    "# plt.scatter(range(len(kuka_time_original)), kuka_time_original, alpha=0.5, label='Baseline Model')\n",
    "plt.scatter(range(len(kuka_time)), kuka_time, alpha=0.5, label='Proposed Model')\n",
    "plt.scatter(range(len(kuka_time_rrt)), kuka_time_rrt, alpha=0.5, label='RRT')\n",
    "plt.scatter(range(len(kuka_time_dk)), kuka_time_dk, alpha=0.5, label='Dijkstra')\n",
    "plt.title('Computation Time per Problem')\n",
    "plt.xlabel('Problem Index')\n",
    "plt.ylabel('Time (seconds)')\n",
    "plt.legend()\n",
    "\n",
    "plt.tight_layout()\n",
    "plt.show()"
   ]
  },
  {
   "cell_type": "code",
   "execution_count": 43,
   "metadata": {},
   "outputs": [
    {
     "data": {
      "image/png": "[encoded data removed]",
      "text/plain": [
       "<Figure size 864x360 with 1 Axes>"
      ]
     },
     "metadata": {
      "needs_background": "light"
     },
     "output_type": "display_data"
    }
   ],
   "source": [
    "\n",
    "# data_to_plot_time = [kuka_time_original, kuka_time, kuka_time_dk, kuka_time_rrt]\n",
    "# labels = ['Baseline Model', 'Proposed Model', 'Dijkstra', 'RRT']\n",
    "\n",
    "data_to_plot_time = [ kuka_time, kuka_time_dk, kuka_time_rrt]\n",
    "labels = [ 'Proposed Model', 'Dijkstra', 'RRT']\n",
    "\n",
    "\n",
    "plt.figure(figsize=(12, 5))\n",
    "plt.subplot(1, 2, 2)\n",
    "plt.boxplot(data_to_plot_time, labels=labels)\n",
    "plt.title('Computation Time KUKA 14DoF')\n",
    "plt.ylabel('Time (seconds)')\n",
    "plt.grid(True)\n",
    "\n",
    "data_to_plot = [kuka_c_original, kuka_c]\n",
    "labels = ['Baseline Model', 'Proposed Model']\n",
    "\n",
    "# plt.subplot(1, 2, 1)\n",
    "# plt.boxplot(data_to_plot, labels=labels)\n",
    "# plt.title('Comparison of Collision Counts KUKA 14DoF')\n",
    "# plt.ylabel('Number of Collisions')\n",
    "# plt.grid(True)\n",
    "\n",
    "plt.tight_layout()\n",
    "plt.show()"
   ]
  },
  {
   "cell_type": "code",
   "execution_count": 79,
   "metadata": {},
   "outputs": [],
   "source": [
    "kuka_success = np.array([r['success'] for r in kuka_results])\n",
    "indexes = np.where(kuka_success == True)[0]\n",
    "i = indexes[50]"
   ]
  },
  {
   "cell_type": "code",
   "execution_count": 83,
   "metadata": {},
   "outputs": [],
   "source": [
    "env = Kuka2Env(False)\n",
    "path = kuka_results[i]['path']\n",
    "env.init_new_problem(i)\n",
    "gif = env.plot(path, make_gif=True)\n",
    "gif_path = './kuka14DoF.gif'  # Set your desired output path here\n",
    "imageio.mimsave(gif_path, gif, fps=10)  # 'gifs' is the list of frames, fps is frames per second"
   ]
  },
  {
   "cell_type": "markdown",
   "metadata": {},
   "source": [
    "## Test Maze Environment"
   ]
  },
  {
   "cell_type": "markdown",
   "metadata": {},
   "source": [
    "### Original Model"
   ]
  },
  {
   "cell_type": "code",
   "execution_count": 47,
   "metadata": {},
   "outputs": [
    {
     "name": "stderr",
     "output_type": "stream",
     "text": [
      "100%|██████████| 1000/1000 [01:47<00:00,  9.30it/s]\n"
     ]
    }
   ],
   "source": [
    "bs = 100  # only sample 100 points\n",
    "maze_results_original = []\n",
    "env = MazeEnv(dim=2, map_file='maze_files/mazes_hard.npz')\n",
    "indexes = np.arange(1000)  \n",
    "# Define Models\n",
    "model_explore = EncoderProcessDecoder(workspace_size=2, config_size=2, embed_size=32, obs_size=2).to(device)                # model explore\n",
    "model_smooth = ModelSmoother(workspace_size=env.dim, config_size=env.config_dim, embed_size=128, obs_size=6).to(device)\n",
    "model_explore_path = './data/improved/maze_2d_Original.pt'\n",
    "model_explore.load_state_dict(torch.load(model_explore_path, map_location=torch.device(\"cpu\")))                                             # load model explore weights\n",
    "model_smooth_path = 'data/weights/smooth_2d_attv3.pt'\n",
    "model_smooth.load_state_dict(torch.load(model_smooth_path, map_location=torch.device(\"cpu\")))\n",
    "# Test the model in 1000 different problems\n",
    "for i in tqdm(range(1000)):\n",
    "    env.init_new_problem(i)\n",
    "    set_random_seed(1234)\n",
    "    result = explore(env, model_explore, model_smooth, smooth=True, smoother='none', batch=bs, t_max=bs, k=10) \n",
    "    maze_results_original.append(result)"
   ]
  },
  {
   "cell_type": "markdown",
   "metadata": {},
   "source": [
    "### Proposed Model"
   ]
  },
  {
   "cell_type": "code",
   "execution_count": 48,
   "metadata": {},
   "outputs": [
    {
     "name": "stderr",
     "output_type": "stream",
     "text": [
      "  0%|          | 3/1000 [00:00<00:50, 19.60it/s]"
     ]
    },
    {
     "name": "stderr",
     "output_type": "stream",
     "text": [
      "100%|██████████| 1000/1000 [01:00<00:00, 16.41it/s]\n"
     ]
    }
   ],
   "source": [
    "bs = 100  # only sample 100 points\n",
    "maze_results = []\n",
    "env = MazeEnv(dim=2, map_file='maze_files/mazes_hard.npz')\n",
    "# Define Models\n",
    "model_explore = AttentionEncoderProcessDecoder(workspace_size=2, config_size=2, embed_size=32, obs_size=2).to(device)                # model explore\n",
    "model_smooth = ModelSmoother(workspace_size=env.dim, config_size=env.config_dim, embed_size=128, obs_size=6).to(device)\n",
    "model_explore_path = './data/improved/maze_2d_MHA.pt'\n",
    "model_explore.load_state_dict(torch.load(model_explore_path, map_location=torch.device(\"cpu\")))                                             # load model explore weights\n",
    "model_smooth_path = 'data/weights/smooth_2d_attv3.pt'\n",
    "model_smooth.load_state_dict(torch.load(model_smooth_path, map_location=torch.device(\"cpu\")))\n",
    "# Test the model in 1000 different problems\n",
    "for i in tqdm(range(1000)):\n",
    "    env.init_new_problem(i)\n",
    "    set_random_seed(1234)\n",
    "    result = explore(env, model_explore, model_smooth, smooth=True, smoother='none', batch=bs, t_max=bs, k=10) \n",
    "    maze_results.append(result)"
   ]
  },
  {
   "cell_type": "markdown",
   "metadata": {},
   "source": [
    "### RRT"
   ]
  },
  {
   "cell_type": "code",
   "execution_count": 52,
   "metadata": {},
   "outputs": [
    {
     "name": "stderr",
     "output_type": "stream",
     "text": [
      "100%|██████████| 1000/1000 [03:06<00:00,  5.37it/s]\n"
     ]
    }
   ],
   "source": [
    "# Test the model in 1000 different problems\n",
    "bs = 100  # only sample 100 points\n",
    "maze_results_rrt = []\n",
    "maze_results_rrt_time = []\n",
    "t_max = 1000\n",
    "env = MazeEnv(dim=2, map_file='maze_files/mazes_hard.npz')\n",
    "for i in tqdm(range(1000)):\n",
    "    env.init_new_problem(i)\n",
    "    set_random_seed(1234)\n",
    "    t0 = time()\n",
    "    result = NEXT_plan(\n",
    "            env=env,\n",
    "            model=None, # Set model to None to use RRT planner\n",
    "            T=t_max,\n",
    "            g_explore_eps=1.,\n",
    "            stop_when_success=True,\n",
    "            UCB_type='kde'\n",
    "        )\n",
    "    maze_results_rrt.append(result)\n",
    "    maze_results_rrt_time.append(time()-t0)"
   ]
  },
  {
   "cell_type": "markdown",
   "metadata": {},
   "source": [
    "### Dijkstra"
   ]
  },
  {
   "cell_type": "code",
   "execution_count": 53,
   "metadata": {},
   "outputs": [
    {
     "name": "stderr",
     "output_type": "stream",
     "text": [
      "100%|██████████| 1000/1000 [01:26<00:00, 11.54it/s]\n"
     ]
    }
   ],
   "source": [
    "# Test the model in 1000 different problems\n",
    "maze_time_dk = []\n",
    "env = MazeEnv(dim=2, map_file='maze_files/mazes_hard.npz')\n",
    "for i in tqdm(range(1000)):\n",
    "    env.init_new_problem(i)\n",
    "    set_random_seed(1234)\n",
    "    time0 = time()\n",
    "    points = env.uniform_sample(n=np.random.randint(100, 400))\n",
    "    edge_cost, neighbors, edge_index, edge_free = construct_graph(env, points)\n",
    "    dist, prev = dijkstra(list(range(len(points))), neighbors, edge_cost, 0)\n",
    "    valid_goal = np.logical_and(np.array(list(dist.values())) != INFINITY, np.array(list(dist.values()))!=0)\n",
    "    # print(valid_goal)\n",
    "    # goal_index = np.random.choice(len(valid_goal), p=valid_goal.astype(float)/sum(valid_goal))\n",
    "    maze_time_dk.append(time()-time0)"
   ]
  },
  {
   "cell_type": "markdown",
   "metadata": {},
   "source": [
    "### Comparison"
   ]
  },
  {
   "cell_type": "code",
   "execution_count": 54,
   "metadata": {},
   "outputs": [],
   "source": [
    "# Collision numbers\n",
    "maze_c_original = np.array([r['c_explore'] for r in maze_results_original]) # Collision numbers\n",
    "maze_c = np.array([r['c_explore'] for r in maze_results]) # Collision numbers\n",
    "# Time\n",
    "maze_time_original = np.array([r['total_explore'] for r in maze_results_original])\n",
    "maze_time = np.array([r['total_explore'] for r in maze_results]) \n",
    "\n",
    "maze_time_rrt = np.array(maze_results_rrt_time)\n",
    "\n",
    "# Dijkstra results\n",
    "maze_time_dk = np.array(maze_time_dk)\n"
   ]
  },
  {
   "cell_type": "code",
   "execution_count": 56,
   "metadata": {},
   "outputs": [
    {
     "data": {
      "image/png": "[encoded data removed]",
      "text/plain": [
       "<Figure size 864x432 with 1 Axes>"
      ]
     },
     "metadata": {
      "needs_background": "light"
     },
     "output_type": "display_data"
    }
   ],
   "source": [
    "# Creating a scatter plot for collisions\n",
    "plt.figure(figsize=(12, 6))\n",
    "# plt.subplot(1, 2, 1)\n",
    "# # plt.scatter(range(1000), maze_c_original, alpha=0.5, label='Baseline Model')\n",
    "# plt.scatter(range(1000), maze_c, alpha=0.5, label='Proposed Model')\n",
    "# plt.title('Collisions per Problem')\n",
    "# plt.xlabel('Problem Index')\n",
    "# plt.ylabel('Number of Collisions')\n",
    "# plt.legend()\n",
    "\n",
    "# Creating a scatter plot for computation time\n",
    "plt.subplot(1, 2, 2)\n",
    "# plt.scatter(range(1000), maze_time_original, alpha=0.5, label='Baseline Model')\n",
    "plt.scatter(range(1000), maze_time, alpha=0.5, label='Proposed Model')\n",
    "plt.scatter(range(1000), maze_time_rrt, alpha=0.5, label='RRT')\n",
    "plt.scatter(range(1000), maze_time_dk, alpha=0.5, label='Dijkstra')\n",
    "plt.title('Computation Time per Problem')\n",
    "plt.xlabel('Problem Index')\n",
    "plt.ylabel('Time (seconds)')\n",
    "plt.legend()\n",
    "\n",
    "plt.tight_layout()\n",
    "plt.show()"
   ]
  },
  {
   "cell_type": "code",
   "execution_count": 57,
   "metadata": {},
   "outputs": [
    {
     "data": {
      "image/png": "[encoded data removed]",
      "text/plain": [
       "<Figure size 864x360 with 1 Axes>"
      ]
     },
     "metadata": {
      "needs_background": "light"
     },
     "output_type": "display_data"
    }
   ],
   "source": [
    "# data_to_plot_time = [maze_time_original, maze_time]\n",
    "# labels = ['Baseline Model', 'Proposed Model']\n",
    "\n",
    "data_to_plot_time = [maze_time, maze_time_dk, maze_time_rrt]\n",
    "labels = ['Proposed Model', 'Dijkstra', 'RRT']\n",
    "\n",
    "\n",
    "plt.figure(figsize=(12, 5))\n",
    "plt.subplot(1, 2, 2)\n",
    "plt.boxplot(data_to_plot_time, labels=labels)\n",
    "plt.title('Computation Time Maze 2D')\n",
    "plt.ylabel('Time (seconds)')\n",
    "plt.grid(True)\n",
    "\n",
    "data_to_plot = [maze_c_original, maze_c]\n",
    "labels = ['Baseline Model', 'Proposed Model']\n",
    "\n",
    "\n",
    "# plt.subplot(1, 2, 1)\n",
    "# plt.boxplot(data_to_plot, labels=labels)\n",
    "# plt.title('Comparison of Collision Counts Maze 2D')\n",
    "# plt.ylabel('Number of Collisions')\n",
    "# plt.grid(True)\n",
    "\n",
    "plt.tight_layout()\n",
    "plt.show()"
   ]
  },
  {
   "cell_type": "code",
   "execution_count": 71,
   "metadata": {},
   "outputs": [
    {
     "data": {
      "text/plain": [
       "<Figure size 432x288 with 0 Axes>"
      ]
     },
     "metadata": {},
     "output_type": "display_data"
    },
    {
     "data": {
      "image/png": "[encoded data removed]",
      "text/plain": [
       "<Figure size 288x288 with 1 Axes>"
      ]
     },
     "metadata": {
      "needs_background": "light"
     },
     "output_type": "display_data"
    }
   ],
   "source": [
    "from utilsgnn.plot import plot_edges, plot_graph\n",
    "i = np.argmax(maze_c) + 1 \n",
    "env.init_new_problem(i)\n",
    "edges = maze_results[i]['data'].v[np.array(maze_results[i]['explored_edges']).reshape(-1)].reshape(-1, 2, 2)\n",
    "edges = [[tuple(k), tuple(v)] for k, v in zip(edges[:, 0, :].cpu().numpy(), edges[:, 1, :].cpu().numpy())]\n",
    "plot_edges(maze_results[i]['path'], edges, env.get_problem(), \\\n",
    "           title=' ', \\\n",
    "           save=None)\n",
    "plt.show()\n"
   ]
  },
  {
   "cell_type": "code",
   "execution_count": 62,
   "metadata": {},
   "outputs": [
    {
     "data": {
      "text/plain": [
       "{'c_explore': 578,\n",
       " 'c_smooth': 0,\n",
       " 'data': Data(goal=[2], v=[202, 2], labels=[202, 3], edge_index=[2, 3032]),\n",
       " 'explored': [0,\n",
       "  22,\n",
       "  41,\n",
       "  77,\n",
       "  84,\n",
       "  37,\n",
       "  23,\n",
       "  83,\n",
       "  51,\n",
       "  42,\n",
       "  52,\n",
       "  67,\n",
       "  3,\n",
       "  70,\n",
       "  65,\n",
       "  33,\n",
       "  88,\n",
       "  21,\n",
       "  30,\n",
       "  9,\n",
       "  60,\n",
       "  76,\n",
       "  80,\n",
       "  91,\n",
       "  66,\n",
       "  85,\n",
       "  20,\n",
       "  68,\n",
       "  27,\n",
       "  97,\n",
       "  35,\n",
       "  89,\n",
       "  71,\n",
       "  14,\n",
       "  93,\n",
       "  1],\n",
       " 'forward': 0.010025501251220703,\n",
       " 'total': 0.07116436958312988,\n",
       " 'total_explore': 0.07109689712524414,\n",
       " 'success': True,\n",
       " 't0': 1701515252.5082345,\n",
       " 'path': [array([ 0.2903969 , -0.37626976], dtype=float32),\n",
       "  array([ 0.41199514, -0.7003326 ], dtype=float32),\n",
       "  array([ 0.7077971 , -0.42587516], dtype=float32),\n",
       "  array([ 0.80227906, -0.14539243], dtype=float32),\n",
       "  array([0.83639616, 0.25147334], dtype=float32),\n",
       "  array([0.8116144, 0.5371665], dtype=float32),\n",
       "  array([0.5523614, 0.564956 ], dtype=float32),\n",
       "  array([0.2100222 , 0.50708747], dtype=float32),\n",
       "  array([0.21335043, 0.6443196 ], dtype=float32),\n",
       "  array([0.23488341, 0.82424575], dtype=float32),\n",
       "  array([-0.05334025,  0.80511004], dtype=float32),\n",
       "  array([-0.02594626,  0.6407204 ], dtype=float32)],\n",
       " 'smooth_path': [array([ 0.2903969 , -0.37626976], dtype=float32),\n",
       "  array([ 0.41199514, -0.7003326 ], dtype=float32),\n",
       "  array([ 0.7077971 , -0.42587516], dtype=float32),\n",
       "  array([ 0.80227906, -0.14539243], dtype=float32),\n",
       "  array([0.83639616, 0.25147334], dtype=float32),\n",
       "  array([0.8116144, 0.5371665], dtype=float32),\n",
       "  array([0.5523614, 0.564956 ], dtype=float32),\n",
       "  array([0.2100222 , 0.50708747], dtype=float32),\n",
       "  array([0.21335043, 0.6443196 ], dtype=float32),\n",
       "  array([0.23488341, 0.82424575], dtype=float32),\n",
       "  array([-0.05334025,  0.80511004], dtype=float32),\n",
       "  array([-0.02594626,  0.6407204 ], dtype=float32)],\n",
       " 'explored_edges': [[0, 0],\n",
       "  [0, 37],\n",
       "  [37, 0],\n",
       "  [0, 83],\n",
       "  [83, 0],\n",
       "  [0, 65],\n",
       "  [65, 0],\n",
       "  [0, 22],\n",
       "  [22, 0],\n",
       "  [22, 23],\n",
       "  [23, 22],\n",
       "  [22, 41],\n",
       "  [41, 22],\n",
       "  [41, 62],\n",
       "  [62, 41],\n",
       "  [22, 77],\n",
       "  [77, 22],\n",
       "  [77, 62],\n",
       "  [62, 77],\n",
       "  [0, 84],\n",
       "  [84, 0],\n",
       "  [41, 23],\n",
       "  [23, 41],\n",
       "  [84, 37],\n",
       "  [37, 84],\n",
       "  [37, 23],\n",
       "  [23, 37],\n",
       "  [23, 50],\n",
       "  [50, 23],\n",
       "  [23, 62],\n",
       "  [62, 23],\n",
       "  [23, 19],\n",
       "  [19, 23],\n",
       "  [23, 5],\n",
       "  [5, 23],\n",
       "  [84, 83],\n",
       "  [83, 84],\n",
       "  [0, 51],\n",
       "  [51, 0],\n",
       "  [51, 65],\n",
       "  [65, 51],\n",
       "  [0, 42],\n",
       "  [42, 0],\n",
       "  [42, 52],\n",
       "  [52, 42],\n",
       "  [84, 65],\n",
       "  [65, 84],\n",
       "  [22, 65],\n",
       "  [65, 22],\n",
       "  [84, 52],\n",
       "  [52, 84],\n",
       "  [52, 67],\n",
       "  [67, 52],\n",
       "  [67, 19],\n",
       "  [19, 67],\n",
       "  [67, 29],\n",
       "  [29, 67],\n",
       "  [67, 54],\n",
       "  [54, 67],\n",
       "  [67, 5],\n",
       "  [5, 67],\n",
       "  [67, 15],\n",
       "  [15, 67],\n",
       "  [52, 3],\n",
       "  [3, 52],\n",
       "  [3, 19],\n",
       "  [19, 3],\n",
       "  [3, 29],\n",
       "  [29, 3],\n",
       "  [3, 54],\n",
       "  [54, 3],\n",
       "  [3, 5],\n",
       "  [5, 3],\n",
       "  [3, 15],\n",
       "  [15, 3],\n",
       "  [0, 70],\n",
       "  [70, 0],\n",
       "  [70, 65],\n",
       "  [65, 70],\n",
       "  [83, 65],\n",
       "  [65, 83],\n",
       "  [0, 33],\n",
       "  [33, 0],\n",
       "  [33, 88],\n",
       "  [88, 33],\n",
       "  [3, 73],\n",
       "  [73, 3],\n",
       "  [67, 73],\n",
       "  [73, 67],\n",
       "  [3, 56],\n",
       "  [56, 3],\n",
       "  [67, 56],\n",
       "  [56, 67],\n",
       "  [77, 80],\n",
       "  [80, 77],\n",
       "  [77, 91],\n",
       "  [91, 77],\n",
       "  [52, 48],\n",
       "  [48, 52],\n",
       "  [65, 9],\n",
       "  [9, 65],\n",
       "  [88, 55],\n",
       "  [55, 88],\n",
       "  [3, 48],\n",
       "  [48, 3],\n",
       "  [67, 48],\n",
       "  [48, 67],\n",
       "  [33, 55],\n",
       "  [55, 33],\n",
       "  [65, 60],\n",
       "  [60, 65],\n",
       "  [77, 9],\n",
       "  [9, 77],\n",
       "  [88, 26],\n",
       "  [26, 88],\n",
       "  [42, 55],\n",
       "  [55, 42],\n",
       "  [0, 74],\n",
       "  [74, 0],\n",
       "  [88, 101],\n",
       "  [101, 88],\n",
       "  [33, 21],\n",
       "  [21, 33],\n",
       "  [70, 74],\n",
       "  [74, 70],\n",
       "  [33, 101],\n",
       "  [101, 33],\n",
       "  [42, 26],\n",
       "  [26, 42],\n",
       "  [0, 21],\n",
       "  [21, 0],\n",
       "  [21, 30],\n",
       "  [30, 21],\n",
       "  [30, 9],\n",
       "  [9, 30],\n",
       "  [30, 60],\n",
       "  [60, 30],\n",
       "  [60, 76],\n",
       "  [76, 60],\n",
       "  [76, 87],\n",
       "  [87, 76],\n",
       "  [60, 80],\n",
       "  [80, 60],\n",
       "  [60, 91],\n",
       "  [91, 60],\n",
       "  [91, 66],\n",
       "  [66, 91],\n",
       "  [66, 35],\n",
       "  [35, 66],\n",
       "  [66, 87],\n",
       "  [87, 66],\n",
       "  [91, 85],\n",
       "  [85, 91],\n",
       "  [85, 35],\n",
       "  [35, 85],\n",
       "  [85, 87],\n",
       "  [87, 85],\n",
       "  [60, 20],\n",
       "  [20, 60],\n",
       "  [20, 68],\n",
       "  [68, 20],\n",
       "  [68, 35],\n",
       "  [35, 68],\n",
       "  [68, 87],\n",
       "  [87, 68],\n",
       "  [20, 27],\n",
       "  [27, 20],\n",
       "  [27, 35],\n",
       "  [35, 27],\n",
       "  [27, 87],\n",
       "  [87, 27],\n",
       "  [20, 97],\n",
       "  [97, 20],\n",
       "  [97, 35],\n",
       "  [35, 97],\n",
       "  [35, 89],\n",
       "  [89, 35],\n",
       "  [89, 1],\n",
       "  [1, 89],\n",
       "  [89, 96],\n",
       "  [96, 89],\n",
       "  [89, 2],\n",
       "  [2, 89],\n",
       "  [97, 4],\n",
       "  [4, 97],\n",
       "  [89, 50],\n",
       "  [50, 89],\n",
       "  [89, 99],\n",
       "  [99, 89],\n",
       "  [89, 62],\n",
       "  [62, 89],\n",
       "  [89, 71],\n",
       "  [71, 89],\n",
       "  [71, 1],\n",
       "  [1, 71],\n",
       "  [71, 96],\n",
       "  [96, 71],\n",
       "  [71, 99],\n",
       "  [99, 71],\n",
       "  [71, 62],\n",
       "  [62, 71],\n",
       "  [71, 93],\n",
       "  [93, 71],\n",
       "  [71, 94],\n",
       "  [94, 71],\n",
       "  [71, 14],\n",
       "  [14, 71],\n",
       "  [14, 1],\n",
       "  [1, 14],\n",
       "  [14, 93],\n",
       "  [93, 14],\n",
       "  [93, 1],\n",
       "  [1, 93]]}"
      ]
     },
     "execution_count": 62,
     "metadata": {},
     "output_type": "execute_result"
    }
   ],
   "source": [
    "maze_results[i+1]#['success']"
   ]
  }
 ],
 "metadata": {
  "kernelspec": {
   "display_name": "Python 3",
   "language": "python",
   "name": "python3"
  },
  "language_info": {
   "codemirror_mode": {
    "name": "ipython",
    "version": 3
   },
   "file_extension": ".py",
   "mimetype": "text/x-python",
   "name": "python",
   "nbconvert_exporter": "python",
   "pygments_lexer": "ipython3",
   "version": "3.8.10"
  }
 },
 "nbformat": 4,
 "nbformat_minor": 2
}
